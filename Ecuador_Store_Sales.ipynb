{
  "metadata": {
    "kernelspec": {
      "display_name": "Python 3",
      "name": "python3"
    },
    "language_info": {
      "pygments_lexer": "ipython3",
      "nbconvert_exporter": "python",
      "version": "3.6.4",
      "file_extension": ".py",
      "codemirror_mode": {
        "name": "ipython",
        "version": 3
      },
      "name": "python",
      "mimetype": "text/x-python"
    },
    "colab": {
      "provenance": [],
      "gpuType": "T4"
    },
    "accelerator": "GPU"
  },
  "nbformat_minor": 0,
  "nbformat": 4,
  "cells": [
    {
      "cell_type": "markdown",
      "source": [
        "# Ecuador Store Sales"
      ],
      "metadata": {
        "id": "QUrZUPUas4fw"
      }
    },
    {
      "cell_type": "markdown",
      "source": [
        "The code was run in kaggle, there might be an issue running the code in any other medium."
      ],
      "metadata": {
        "id": "L2XDmZrbuV4m"
      }
    },
    {
      "cell_type": "markdown",
      "source": [
        "This notebook aims to implement global models for store sales forecasting, diverging from traditional approaches."
      ],
      "metadata": {
        "id": "_RJjTfSqs4fx"
      }
    },
    {
      "cell_type": "code",
      "source": [
        "!pip install darts"
      ],
      "metadata": {
        "_kg_hide-output": true,
        "execution": {
          "iopub.status.busy": "2023-06-23T08:00:15.183982Z",
          "iopub.execute_input": "2023-06-23T08:00:15.18434Z",
          "iopub.status.idle": "2023-06-23T08:00:28.342747Z",
          "shell.execute_reply.started": "2023-06-23T08:00:15.184305Z",
          "shell.execute_reply": "2023-06-23T08:00:28.341566Z"
        },
        "trusted": true,
        "id": "YKt-30qWs4fx"
      },
      "execution_count": null,
      "outputs": []
    },
    {
      "cell_type": "code",
      "source": [
        "import os\n",
        "\n",
        "import matplotlib.pyplot as plt\n",
        "import numpy as np\n",
        "import pandas as pd\n",
        "import seaborn as sns\n",
        "\n",
        "from darts import TimeSeries\n",
        "from darts.dataprocessing import Pipeline\n",
        "from darts.dataprocessing.transformers import Scaler, InvertibleMapper, StaticCovariatesTransformer\n",
        "from darts.dataprocessing.transformers.missing_values_filler import MissingValuesFiller\n",
        "from darts.metrics import rmsle\n",
        "from darts.models import LinearRegressionModel, LightGBMModel, XGBModel, CatBoostModel\n",
        "from darts.models.filtering.moving_average_filter import MovingAverageFilter\n",
        "from sklearn.preprocessing import MinMaxScaler, OneHotEncoder\n",
        "from tqdm.notebook import tqdm_notebook\n",
        "\n",
        "plt.style.use(\"ggplot\")\n",
        "plt.rcParams[\"font.size\"] = 15\n",
        "COLORS = list(sns.color_palette())"
      ],
      "metadata": {
        "_kg_hide-output": true,
        "execution": {
          "iopub.status.busy": "2023-06-23T08:00:28.348406Z",
          "iopub.execute_input": "2023-06-23T08:00:28.348734Z",
          "iopub.status.idle": "2023-06-23T08:00:48.308573Z",
          "shell.execute_reply.started": "2023-06-23T08:00:28.348705Z",
          "shell.execute_reply": "2023-06-23T08:00:48.307215Z"
        },
        "trusted": true,
        "id": "66ZlgZf5s4fx"
      },
      "execution_count": null,
      "outputs": []
    },
    {
      "cell_type": "markdown",
      "source": [
        "---"
      ],
      "metadata": {
        "id": "YkHoHIXCs4fx"
      }
    },
    {
      "cell_type": "markdown",
      "source": [
        "# 1. Data Preprocessing"
      ],
      "metadata": {
        "id": "9RbtQRpqs4fx"
      }
    },
    {
      "cell_type": "code",
      "source": [
        "# helper function to print messages\n",
        "def cprint(title, *args):\n",
        "    print(\n",
        "        \"=\"*len(title), title, \"=\"*len(title),\n",
        "        *args,\n",
        "        sep=\"\\n\",\n",
        "    )"
      ],
      "metadata": {
        "execution": {
          "iopub.status.busy": "2023-06-23T08:00:48.31014Z",
          "iopub.execute_input": "2023-06-23T08:00:48.310595Z",
          "iopub.status.idle": "2023-06-23T08:00:48.316744Z",
          "shell.execute_reply.started": "2023-06-23T08:00:48.310558Z",
          "shell.execute_reply": "2023-06-23T08:00:48.315146Z"
        },
        "trusted": true,
        "id": "KnMzFJ3as4fy"
      },
      "execution_count": null,
      "outputs": []
    },
    {
      "cell_type": "markdown",
      "source": [
        "### Loading the datasets."
      ],
      "metadata": {
        "id": "zOMRoSxAs4fy"
      }
    },
    {
      "cell_type": "markdown",
      "source": [
        "We begin by loading the datasets. We then look at some of their characteristics and perform the necessary changes for visualization and modeling later."
      ],
      "metadata": {
        "id": "8muuW3zls4fy"
      }
    },
    {
      "cell_type": "code",
      "source": [
        "PATH = \"/kaggle/input/store-sales-time-series-forecasting\"\n",
        "\n",
        "train = pd.read_csv(os.path.join(PATH, \"train.csv\"), parse_dates=[\"date\"])\n",
        "test = pd.read_csv(os.path.join(PATH, \"test.csv\"), parse_dates=[\"date\"])\n",
        "\n",
        "oil = pd.read_csv(os.path.join(PATH, \"oil.csv\"), parse_dates=[\"date\"]).rename(columns={\"dcoilwtico\": \"oil\"})\n",
        "store = pd.read_csv(os.path.join(PATH, \"stores.csv\"))\n",
        "transaction = pd.read_csv(os.path.join(PATH, \"transactions.csv\"), parse_dates=[\"date\"])\n",
        "holiday = pd.read_csv(os.path.join(PATH, \"holidays_events.csv\"), parse_dates=[\"date\"])"
      ],
      "metadata": {
        "execution": {
          "iopub.status.busy": "2023-06-23T08:00:48.319467Z",
          "iopub.execute_input": "2023-06-23T08:00:48.319769Z",
          "iopub.status.idle": "2023-06-23T08:00:51.02417Z",
          "shell.execute_reply.started": "2023-06-23T08:00:48.319746Z",
          "shell.execute_reply": "2023-06-23T08:00:51.02252Z"
        },
        "trusted": true,
        "id": "BUNsZ6KJs4fy"
      },
      "execution_count": null,
      "outputs": []
    },
    {
      "cell_type": "markdown",
      "source": [
        "### Check: There are missing gaps in the training data."
      ],
      "metadata": {
        "id": "VMVmxeWAs4fy"
      }
    },
    {
      "cell_type": "markdown",
      "source": [
        "In this problem, our target series for forecasting is the `sales` column for the Ecuadorian-based grocery retailer. With 54 stores present, each having 33 types of products sold, this amounts to 1782 target series for forecasting. We can check that there are missing gaps (4 missing dates) in our target series, which we will investigate next."
      ],
      "metadata": {
        "id": "SsJZQvoQs4fy"
      }
    },
    {
      "cell_type": "code",
      "source": [
        "num_family = train.family.nunique()\n",
        "num_store = train.store_nbr.nunique()\n",
        "num_ts = train.groupby([\"store_nbr\", \"family\"]).ngroups\n",
        "train_start = train.date.min().date()\n",
        "train_end = train.date.max().date()\n",
        "num_train_date = train.date.nunique()\n",
        "train_len = (train_end - train_start).days + 1\n",
        "test_start = test.date.min().date()\n",
        "test_end = test.date.max().date()\n",
        "num_test_date = test.date.nunique()\n",
        "test_len = (test_end - test_start).days + 1"
      ],
      "metadata": {
        "execution": {
          "iopub.status.busy": "2023-06-23T08:00:51.025874Z",
          "iopub.execute_input": "2023-06-23T08:00:51.026333Z",
          "iopub.status.idle": "2023-06-23T08:00:51.505131Z",
          "shell.execute_reply.started": "2023-06-23T08:00:51.026295Z",
          "shell.execute_reply": "2023-06-23T08:00:51.503715Z"
        },
        "trusted": true,
        "id": "2PKsjPtes4fy"
      },
      "execution_count": null,
      "outputs": []
    },
    {
      "cell_type": "code",
      "source": [
        "cprint(\n",
        "    \"Basic information of data\",\n",
        "    f\"Number of family types      : {num_family}\",\n",
        "    f\"Number of stores            : {num_store}\",\n",
        "    f\"Number of store-family pairs: {num_family * num_store}\",\n",
        "    f\"Number of target series     : {num_ts}\",\n",
        "    \"\",\n",
        "    f\"Number of unique train dates: {num_train_date}\",\n",
        "    f\"Train date range            : {train_len} days from {train_start} to {train_end}\",\n",
        "    f\"Number of unique test dates : {num_test_date}\",\n",
        "    f\"Test date range             : {test_len} days from {test_start} to {test_end}\",\n",
        ")"
      ],
      "metadata": {
        "_kg_hide-input": true,
        "execution": {
          "iopub.status.busy": "2023-06-23T08:00:51.506575Z",
          "iopub.execute_input": "2023-06-23T08:00:51.507397Z",
          "iopub.status.idle": "2023-06-23T08:00:51.513131Z",
          "shell.execute_reply.started": "2023-06-23T08:00:51.507372Z",
          "shell.execute_reply": "2023-06-23T08:00:51.511767Z"
        },
        "trusted": true,
        "id": "san7s-3qs4fy"
      },
      "execution_count": null,
      "outputs": []
    },
    {
      "cell_type": "markdown",
      "source": [
        "###  Check: The 4 missing dates fall on Christmas across the years."
      ],
      "metadata": {
        "id": "5M8EVpHMs4fy"
      }
    },
    {
      "cell_type": "markdown",
      "source": [
        "It turns out that all the target series have missing dates on Christmas across the years, which suggests that the stores could be closed on this day."
      ],
      "metadata": {
        "id": "GhiAFd9Hs4fy"
      }
    },
    {
      "cell_type": "code",
      "source": [
        "missing_dates = pd.date_range(train_start, train_end).difference(train.date.unique())\n",
        "missing_dates = missing_dates.strftime(\"%Y-%m-%d\").tolist()\n",
        "\n",
        "unique_dp_count = train.groupby([\"store_nbr\", \"family\"]).date.count().unique().tolist()"
      ],
      "metadata": {
        "execution": {
          "iopub.status.busy": "2023-06-23T08:00:51.514462Z",
          "iopub.execute_input": "2023-06-23T08:00:51.515348Z",
          "iopub.status.idle": "2023-06-23T08:00:51.847514Z",
          "shell.execute_reply.started": "2023-06-23T08:00:51.515315Z",
          "shell.execute_reply": "2023-06-23T08:00:51.846345Z"
        },
        "trusted": true,
        "id": "Ci4LEyNGs4fy"
      },
      "execution_count": null,
      "outputs": []
    },
    {
      "cell_type": "code",
      "source": [
        "cprint(\n",
        "    \"Missing gaps in time series\",\n",
        "    f\"List incl. unique counts of data points: {unique_dp_count}\",\n",
        "    f\"Missing dates                          : {missing_dates}\",\n",
        ")"
      ],
      "metadata": {
        "_kg_hide-input": true,
        "execution": {
          "iopub.status.busy": "2023-06-23T08:00:51.848929Z",
          "iopub.execute_input": "2023-06-23T08:00:51.849701Z",
          "iopub.status.idle": "2023-06-23T08:00:51.856518Z",
          "shell.execute_reply.started": "2023-06-23T08:00:51.849671Z",
          "shell.execute_reply": "2023-06-23T08:00:51.85381Z"
        },
        "trusted": true,
        "id": "tAKZpxihs4fy"
      },
      "execution_count": null,
      "outputs": []
    },
    {
      "cell_type": "markdown",
      "source": [
        "To address this problem, we fill the missing dates by reindexing our training data, and then fill the `sales` and `onpromotion` columns with 0s to indicate that there are no sales/promotions since the stores are closed."
      ],
      "metadata": {
        "id": "HQNgm1Mps4fy"
      }
    },
    {
      "cell_type": "code",
      "source": [
        "# reindex training data\n",
        "multi_idx = pd.MultiIndex.from_product(\n",
        "    [pd.date_range(train_start, train_end), train.store_nbr.unique(), train.family.unique()],\n",
        "    names=[\"date\", \"store_nbr\", \"family\"],\n",
        ")\n",
        "train = train.set_index([\"date\", \"store_nbr\", \"family\"]).reindex(multi_idx).reset_index()\n",
        "\n",
        "# fill missing values with 0s\n",
        "train[[\"sales\", \"onpromotion\"]] = train[[\"sales\", \"onpromotion\"]].fillna(0.)\n",
        "train.id = train.id.interpolate(method=\"linear\") # interpolate linearly as a filler for the 'id'"
      ],
      "metadata": {
        "execution": {
          "iopub.status.busy": "2023-06-23T08:00:51.859469Z",
          "iopub.execute_input": "2023-06-23T08:00:51.85995Z",
          "iopub.status.idle": "2023-06-23T08:00:53.301899Z",
          "shell.execute_reply.started": "2023-06-23T08:00:51.859916Z",
          "shell.execute_reply": "2023-06-23T08:00:53.300656Z"
        },
        "trusted": true,
        "id": "w1V8lNO3s4fy"
      },
      "execution_count": null,
      "outputs": []
    },
    {
      "cell_type": "markdown",
      "source": [
        "### Check: There are no oil prices on weekends."
      ],
      "metadata": {
        "id": "npE1s8fJs4fy"
      }
    },
    {
      "cell_type": "markdown",
      "source": [
        "We can check there there are no oil prices on weekends, and this is mainly due to the nature of trading markets."
      ],
      "metadata": {
        "id": "SIihBPXRs4fy"
      }
    },
    {
      "cell_type": "code",
      "source": [
        "missing_oil_dates = pd.date_range(train_start, test_end).difference(oil.date)\n",
        "num_missing_oil_dates = len(missing_oil_dates)\n",
        "num_wknd_missing = (missing_oil_dates.weekday >= 5).sum()\n",
        "total_num_wknd = (pd.date_range(train_start, test_end).weekday >= 5).sum()"
      ],
      "metadata": {
        "execution": {
          "iopub.status.busy": "2023-06-23T08:00:53.303942Z",
          "iopub.execute_input": "2023-06-23T08:00:53.305284Z",
          "iopub.status.idle": "2023-06-23T08:00:53.315095Z",
          "shell.execute_reply.started": "2023-06-23T08:00:53.305252Z",
          "shell.execute_reply": "2023-06-23T08:00:53.313573Z"
        },
        "trusted": true,
        "id": "KZDLR0T4s4fy"
      },
      "execution_count": null,
      "outputs": []
    },
    {
      "cell_type": "code",
      "source": [
        "cprint(\n",
        "    \"Missing oil dates\",\n",
        "    f\"Number of missing oil dates: {num_missing_oil_dates}\",\n",
        "    f\"Number of weekends missing : {num_wknd_missing}\",\n",
        "    f\"Total number of weekends   : {total_num_wknd}\",\n",
        ")"
      ],
      "metadata": {
        "_kg_hide-input": true,
        "execution": {
          "iopub.status.busy": "2023-06-23T08:00:53.317184Z",
          "iopub.execute_input": "2023-06-23T08:00:53.317572Z",
          "iopub.status.idle": "2023-06-23T08:00:53.326657Z",
          "shell.execute_reply.started": "2023-06-23T08:00:53.317539Z",
          "shell.execute_reply": "2023-06-23T08:00:53.325081Z"
        },
        "trusted": true,
        "id": "h_H_VKtYs4fz"
      },
      "execution_count": null,
      "outputs": []
    },
    {
      "cell_type": "markdown",
      "source": [
        "Because our grocery stores open on weekends as well, there is a need to estimate the missing oil prices if we are to use them in our models. For simplicity, we fill the missing values in the `oil` column using linear interpolation."
      ],
      "metadata": {
        "id": "0aaLVpE-s4fz"
      }
    },
    {
      "cell_type": "code",
      "source": [
        "# reindex oil data\n",
        "oil = oil.merge(\n",
        "    pd.DataFrame({\"date\": pd.date_range(train_start, test_end)}),\n",
        "    on=\"date\",\n",
        "    how=\"outer\",\n",
        ").sort_values(\"date\", ignore_index=True)\n",
        "\n",
        "# fill missing values using linear interpolation\n",
        "oil.oil = oil.oil.interpolate(method=\"linear\", limit_direction=\"both\")"
      ],
      "metadata": {
        "execution": {
          "iopub.status.busy": "2023-06-23T08:00:53.329746Z",
          "iopub.execute_input": "2023-06-23T08:00:53.330092Z",
          "iopub.status.idle": "2023-06-23T08:00:53.348573Z",
          "shell.execute_reply.started": "2023-06-23T08:00:53.330068Z",
          "shell.execute_reply": "2023-06-23T08:00:53.346822Z"
        },
        "trusted": true,
        "id": "fosBg8P5s4fz"
      },
      "execution_count": null,
      "outputs": []
    },
    {
      "cell_type": "markdown",
      "source": [
        "### Check: There are missing transactions due to either zero sales or missing records."
      ],
      "metadata": {
        "id": "CSG5t-h1s4fz"
      }
    },
    {
      "cell_type": "markdown",
      "source": [
        "With 54 stores and 1688 training dates, we should have a total of 91152 records of transaction. However, this does not tally with the dataset given. We can easily check that the transaction data does not record days with zero sales, indicating that such days are generally not recorded. As such, for days with zero sales, we fill the `transactions` column with 0s.\n",
        "\n",
        "After doing that, we observe that there are still missing values, suggesting that there are indeed missing data entries not due to zero sales. For simplicity, we fill the remaining missing values using linear interpolation."
      ],
      "metadata": {
        "id": "IMV-kNpvs4fz"
      }
    },
    {
      "cell_type": "code",
      "source": [
        "num_zero_sales = (train.groupby([\"date\", \"store_nbr\"]).sales.sum().eq(0)).sum()\n",
        "total_rec = num_store * train_len\n",
        "curr_rec = len(transaction.index)\n",
        "missing_rec = total_rec - curr_rec - num_zero_sales"
      ],
      "metadata": {
        "execution": {
          "iopub.status.busy": "2023-06-23T08:00:53.355057Z",
          "iopub.execute_input": "2023-06-23T08:00:53.355383Z",
          "iopub.status.idle": "2023-06-23T08:00:53.48984Z",
          "shell.execute_reply.started": "2023-06-23T08:00:53.355358Z",
          "shell.execute_reply": "2023-06-23T08:00:53.48845Z"
        },
        "trusted": true,
        "id": "v948H_0hs4fz"
      },
      "execution_count": null,
      "outputs": []
    },
    {
      "cell_type": "code",
      "source": [
        "cprint(\n",
        "    \"Missing transaction records\",\n",
        "    f\"Correct number of records: {total_rec}\",\n",
        "    \"\",\n",
        "    \"Breakdown...\",\n",
        "    f\"Current number of records: {curr_rec}\",\n",
        "    f\"Number of zero sales     : {num_zero_sales}\",\n",
        "    f\"Number of missing records: {missing_rec}\",\n",
        ")"
      ],
      "metadata": {
        "execution": {
          "iopub.status.busy": "2023-06-23T08:00:53.491248Z",
          "iopub.execute_input": "2023-06-23T08:00:53.491618Z",
          "iopub.status.idle": "2023-06-23T08:00:53.498123Z",
          "shell.execute_reply.started": "2023-06-23T08:00:53.491588Z",
          "shell.execute_reply": "2023-06-23T08:00:53.49719Z"
        },
        "_kg_hide-input": true,
        "trusted": true,
        "id": "DIiQqO2ys4fz"
      },
      "execution_count": null,
      "outputs": []
    },
    {
      "cell_type": "code",
      "source": [
        "# compute total sales for each store\n",
        "store_sales = train.groupby([\"date\", \"store_nbr\"]).sales.sum().reset_index()\n",
        "\n",
        "# reindex transaction data\n",
        "transaction = transaction.merge(\n",
        "    store_sales,\n",
        "    on=[\"date\", \"store_nbr\"],\n",
        "    how=\"outer\",\n",
        ").sort_values([\"date\", \"store_nbr\"], ignore_index=True)\n",
        "\n",
        "# fill missing values with 0s for days with zero sales\n",
        "transaction.loc[transaction.sales.eq(0), \"transactions\"] = 0.\n",
        "transaction = transaction.drop(columns=[\"sales\"])\n",
        "\n",
        "# fill remaining missing values using linear interpolation\n",
        "transaction.transactions = transaction.groupby(\"store_nbr\", group_keys=False).transactions.apply(\n",
        "    lambda x: x.interpolate(method=\"linear\", limit_direction=\"both\")\n",
        ")"
      ],
      "metadata": {
        "execution": {
          "iopub.status.busy": "2023-06-23T08:00:53.499409Z",
          "iopub.execute_input": "2023-06-23T08:00:53.499677Z",
          "iopub.status.idle": "2023-06-23T08:00:53.710746Z",
          "shell.execute_reply.started": "2023-06-23T08:00:53.499654Z",
          "shell.execute_reply": "2023-06-23T08:00:53.71013Z"
        },
        "trusted": true,
        "id": "hJVlEBEus4fz"
      },
      "execution_count": null,
      "outputs": []
    },
    {
      "cell_type": "markdown",
      "source": [
        "### Check: Regional holidays correspond to the state level, while local holidays correspond to the city level."
      ],
      "metadata": {
        "id": "nun67mYws4fz"
      }
    },
    {
      "cell_type": "markdown",
      "source": [
        "For our holiday data, we note that there are holidays on different scales (national, regional and local). Moreover, regional holidays correspond to the state level, while local holidays correspond to the city level. This can be verified by checking the `locale_name` column, as well as the `city` and `state` columns in the store data.\n",
        "\n",
        "For national holidays, the `locale_name` always states the country, Ecuador. On the other hand, the values of `locale_name` can also be found in the `state` column for regional holidays. The same goes for local holidays with the `city` column. Because of this, we find out that not all cities have local holidays, and not all states have regional holidays."
      ],
      "metadata": {
        "id": "KtXDpw5ss4fz"
      }
    },
    {
      "cell_type": "code",
      "source": [
        "national_locale_name = sorted(holiday[holiday.locale.eq(\"National\")].locale_name.unique().tolist())\n",
        "regional_locale_name = sorted(holiday[holiday.locale.eq(\"Regional\")].locale_name.unique().tolist())\n",
        "local_locale_name = sorted(holiday[holiday.locale.eq(\"Local\")].locale_name.unique().tolist())"
      ],
      "metadata": {
        "execution": {
          "iopub.status.busy": "2023-06-23T08:00:53.711704Z",
          "iopub.execute_input": "2023-06-23T08:00:53.712081Z",
          "iopub.status.idle": "2023-06-23T08:00:53.723039Z",
          "shell.execute_reply.started": "2023-06-23T08:00:53.712059Z",
          "shell.execute_reply": "2023-06-23T08:00:53.721801Z"
        },
        "trusted": true,
        "id": "tXne9Ezas4fz"
      },
      "execution_count": null,
      "outputs": []
    },
    {
      "cell_type": "code",
      "source": [
        "cprint(\n",
        "    \"List of locale names for each holiday\",\n",
        "    \"Locale names for national holidays:\",\n",
        "    national_locale_name,\n",
        "    \"\",\n",
        "    \"Locale names for regional holidays:\",\n",
        "    regional_locale_name,\n",
        "    \"\",\n",
        "    \"Locale names for local holidays:\",\n",
        "    local_locale_name,\n",
        ")"
      ],
      "metadata": {
        "_kg_hide-input": true,
        "execution": {
          "iopub.status.busy": "2023-06-23T08:00:53.72458Z",
          "iopub.execute_input": "2023-06-23T08:00:53.725053Z",
          "iopub.status.idle": "2023-06-23T08:00:53.735994Z",
          "shell.execute_reply.started": "2023-06-23T08:00:53.725028Z",
          "shell.execute_reply": "2023-06-23T08:00:53.734531Z"
        },
        "trusted": true,
        "id": "rKr9GQiLs4fz"
      },
      "execution_count": null,
      "outputs": []
    },
    {
      "cell_type": "markdown",
      "source": [
        "### Check: There are many holidays of a similar nature, which can be grouped together to simplify modeling."
      ],
      "metadata": {
        "id": "ORLMR5Zvs4fz"
      }
    },
    {
      "cell_type": "markdown",
      "source": [
        "In the holiday data, some days surrounding the actual holidays are also labeled as holidays. An example is shown below for Christmas (Navidad) 2012, where terms like '-4' and '+1' indicate the number of days before and after Christmas. We can check that in general, these surrounding days are labeled as 'Additional' in the `type` column. In addition, since Christmas 2012 falls on a Tuesday, 24 December 2012 is declared as a bridge holiday to make a long weekend. We can group such holidays together for standardization."
      ],
      "metadata": {
        "id": "IaGXQ1Mfs4fz"
      }
    },
    {
      "cell_type": "code",
      "source": [
        "holiday[(holiday.description.str.contains(\"Navidad\"))&(holiday.date.dt.year.eq(2012))]"
      ],
      "metadata": {
        "_kg_hide-input": false,
        "execution": {
          "iopub.status.busy": "2023-06-23T08:00:53.73782Z",
          "iopub.execute_input": "2023-06-23T08:00:53.738203Z",
          "iopub.status.idle": "2023-06-23T08:00:53.774397Z",
          "shell.execute_reply.started": "2023-06-23T08:00:53.738171Z",
          "shell.execute_reply": "2023-06-23T08:00:53.772489Z"
        },
        "trusted": true,
        "id": "J9_JgmM6s4f2"
      },
      "execution_count": null,
      "outputs": []
    },
    {
      "cell_type": "markdown",
      "source": [
        "It turns out that there are other examples, such as the Independence Day for the different cities. For simplicity, we assume that such holidays should have similar impacts on the store sales. We assign the same labels for such holidays by removing extra words like bridge (puente) and the city/state names from the `description` column. The function to process the column is given below."
      ],
      "metadata": {
        "id": "XqmTX1rRs4f2"
      }
    },
    {
      "cell_type": "code",
      "source": [
        "def process_holiday(s):\n",
        "    if \"futbol\" in s:\n",
        "        return \"futbol\"\n",
        "    to_remove = list(set(store.city.str.lower()) | set(store.state.str.lower()))\n",
        "    for w in to_remove:\n",
        "        s = s.replace(w, \"\")\n",
        "    return s"
      ],
      "metadata": {
        "execution": {
          "iopub.status.busy": "2023-06-23T08:00:53.775675Z",
          "iopub.execute_input": "2023-06-23T08:00:53.776048Z",
          "iopub.status.idle": "2023-06-23T08:00:53.782042Z",
          "shell.execute_reply.started": "2023-06-23T08:00:53.776019Z",
          "shell.execute_reply": "2023-06-23T08:00:53.781084Z"
        },
        "trusted": true,
        "id": "TA7u7zKDs4f2"
      },
      "execution_count": null,
      "outputs": []
    },
    {
      "cell_type": "code",
      "source": [
        "holiday.description = holiday.apply(\n",
        "    lambda x: x.description.lower().replace(x.locale_name.lower(), \"\"),\n",
        "    axis=1,\n",
        ").apply(\n",
        "    process_holiday\n",
        ").replace(\n",
        "    r\"[+-]\\d+|\\b(de|del|traslado|recupero|puente|-)\\b\", \"\", regex=True,\n",
        ").replace(\n",
        "    r\"\\s+|-\", \" \", regex=True,\n",
        ").str.strip()\n",
        "\n",
        "holiday.head()"
      ],
      "metadata": {
        "execution": {
          "iopub.status.busy": "2023-06-23T08:00:53.783085Z",
          "iopub.execute_input": "2023-06-23T08:00:53.783777Z",
          "iopub.status.idle": "2023-06-23T08:00:53.910109Z",
          "shell.execute_reply.started": "2023-06-23T08:00:53.783746Z",
          "shell.execute_reply": "2023-06-23T08:00:53.909437Z"
        },
        "trusted": true,
        "id": "SReZ2z-vs4f2"
      },
      "execution_count": null,
      "outputs": []
    },
    {
      "cell_type": "markdown",
      "source": [
        "We further process the holiday data by removing holidays which are transferred. This can be checked using the `transferred` column. Since the holidays are not celebrated during the official date and are more like normal days, we exclude them.\n",
        "\n",
        "We then separate them into national/regional/local holidays, and Saturdays that are designated as work days. Prefixes `nat_` / `loc_` are set for national/local holidays to better differentiate them during visualization later. For regional holidays, it turns out that we only have `provincialization`, so it is being labeled as such. An example is shown below, where the national holidays are being encoded as dummy variables. The same applies for the other holidays."
      ],
      "metadata": {
        "id": "zLBkLBZhs4f2"
      }
    },
    {
      "cell_type": "code",
      "source": [
        "# remove transferred holidays\n",
        "holiday = holiday[holiday.transferred.eq(False)]\n",
        "\n",
        "#########################################\n",
        "### Saturdays designated as work days ###\n",
        "#########################################\n",
        "work_days = holiday[holiday.type.eq(\"Work Day\")]\n",
        "work_days = work_days[[\"date\", \"type\"]].rename(\n",
        "    columns={\"type\": \"work_day\"}\n",
        ").reset_index(drop=True)\n",
        "work_days.work_day = work_days.work_day.notna().astype(int)\n",
        "# remove work days after extracting above\n",
        "holiday = holiday[holiday.type!=\"Work Day\"].reset_index(drop=True)\n",
        "\n",
        "###################################\n",
        "### local holidays (city level) ###\n",
        "###################################\n",
        "local_holidays = holiday[holiday.locale.eq(\"Local\")]\n",
        "local_holidays = local_holidays[[\"date\", \"locale_name\", \"description\"]].rename(\n",
        "    columns={\"locale_name\": \"city\"}\n",
        ").reset_index(drop=True)\n",
        "local_holidays = local_holidays[~local_holidays.duplicated()]\n",
        "local_holidays = pd.get_dummies(local_holidays, columns=[\"description\"], prefix=\"loc\")\n",
        "\n",
        "#######################################\n",
        "### regional holidays (state level) ###\n",
        "#######################################\n",
        "regional_holidays = holiday[holiday.locale.eq(\"Regional\")]\n",
        "regional_holidays = regional_holidays[[\"date\", \"locale_name\", \"description\"]].rename(\n",
        "    columns={\"locale_name\": \"state\", \"description\": \"provincializacion\"}\n",
        ").reset_index(drop=True)\n",
        "regional_holidays.provincializacion = regional_holidays.provincializacion.eq(\"provincializacion\").astype(int)\n",
        "\n",
        "#########################\n",
        "### national holidays ###\n",
        "#########################\n",
        "national_holidays = holiday[holiday.locale.eq(\"National\")]\n",
        "national_holidays = national_holidays[[\"date\", \"description\"]].reset_index(drop=True)\n",
        "national_holidays = national_holidays[~national_holidays.duplicated()]\n",
        "national_holidays = pd.get_dummies(national_holidays, columns=[\"description\"], prefix=\"nat\")\n",
        "# different national holidays may fall on the same day\n",
        "national_holidays = national_holidays.groupby(\"date\").sum().reset_index()\n",
        "# shorten name for visualization purposes later\n",
        "national_holidays = national_holidays.rename(columns={\"nat_primer grito independencia\": \"nat_primer grito\"})\n",
        "\n",
        "national_holidays.head()"
      ],
      "metadata": {
        "execution": {
          "iopub.status.busy": "2023-06-23T08:00:53.911188Z",
          "iopub.execute_input": "2023-06-23T08:00:53.911872Z",
          "iopub.status.idle": "2023-06-23T08:00:53.958362Z",
          "shell.execute_reply.started": "2023-06-23T08:00:53.911821Z",
          "shell.execute_reply": "2023-06-23T08:00:53.957156Z"
        },
        "trusted": true,
        "id": "jGcwdMz0s4f2"
      },
      "execution_count": null,
      "outputs": []
    },
    {
      "cell_type": "markdown",
      "source": [
        "---"
      ],
      "metadata": {
        "id": "Qu44_vDMs4f2"
      }
    },
    {
      "cell_type": "markdown",
      "source": [
        "# 2. Data Exploration"
      ],
      "metadata": {
        "id": "NQ7MbiN2s4f2"
      }
    },
    {
      "cell_type": "markdown",
      "source": [
        "After data preprocessing, we can now analyze our data and discover patterns using visualizations. Before we do that, we reshape our data from the long form to the wide form, where each column corresponds to one time series. Either forms can be easier to work with in different situations. An example is shown below for our target series, where the index is the time dimension represented by `date` and the columns are the `sales` for each store-family pair."
      ],
      "metadata": {
        "id": "DWNa1pRos4f2"
      }
    },
    {
      "cell_type": "code",
      "source": [
        "sales_ts = pd.pivot_table(train, values=\"sales\", index=\"date\", columns=[\"store_nbr\", \"family\"])\n",
        "tr_ts = pd.pivot_table(transaction, values=\"transactions\", index=\"date\", columns=\"store_nbr\")\n",
        "promo_ts = pd.pivot_table(train, values=\"onpromotion\", index=\"date\", columns=[\"store_nbr\", \"family\"])\n",
        "\n",
        "sales_ts.head()"
      ],
      "metadata": {
        "execution": {
          "iopub.status.busy": "2023-06-23T08:00:53.959599Z",
          "iopub.execute_input": "2023-06-23T08:00:53.959865Z",
          "iopub.status.idle": "2023-06-23T08:00:56.439185Z",
          "shell.execute_reply.started": "2023-06-23T08:00:53.959844Z",
          "shell.execute_reply": "2023-06-23T08:00:56.437734Z"
        },
        "trusted": true,
        "id": "sqm_72tJs4f2"
      },
      "execution_count": null,
      "outputs": []
    },
    {
      "cell_type": "markdown",
      "source": [
        "For visualization purposes, there is a need to scale our data if we want to look at the average value of the `sales` column. This helps to balance the impact across all store-family pairs on the average value. The same applies for the `transactions` and `onpromotion` values, but we will scale them only when needed later.\n",
        "\n",
        "We also convert back the scaled sales data to the long form and add the holiday columns to analyze the holiday effects later. An additional column `no_holiday` is computed to indicate days without any holidays. This is important when we are comparing the store sales between holiday and non-holiday periods."
      ],
      "metadata": {
        "id": "rrsJnHlns4f2"
      }
    },
    {
      "cell_type": "code",
      "source": [
        "# scale target series\n",
        "scaler = MinMaxScaler()\n",
        "sales_ts_scaled = sales_ts.copy()\n",
        "sales_ts_scaled[sales_ts_scaled.columns] = scaler.fit_transform(sales_ts_scaled)\n",
        "\n",
        "# convert back to long form and add the holiday columns\n",
        "holiday_sales_merged = sales_ts_scaled.melt(\n",
        "    value_name=\"sales\", ignore_index=False,\n",
        ").reset_index().merge(\n",
        "    store, on=\"store_nbr\", how=\"left\",\n",
        ").merge(\n",
        "    work_days, on=\"date\", how=\"left\",\n",
        ").merge(\n",
        "    local_holidays, on=[\"date\", \"city\"], how=\"left\",\n",
        ").merge(\n",
        "    regional_holidays, on=[\"date\", \"state\"], how=\"left\",\n",
        ").merge(\n",
        "    national_holidays, on=\"date\", how=\"left\",\n",
        ").fillna(0)\n",
        "\n",
        "# include dummy variable for dates without any holidays\n",
        "holiday_list = [col for col in holiday_sales_merged if col.startswith((\"loc_\", \"nat_\", \"provincializacion\"))]\n",
        "holiday_sales_merged[\"no_holiday\"] = holiday_sales_merged[holiday_list].sum(axis=1).eq(0).astype(int)\n",
        "\n",
        "holiday_sales_merged.head()"
      ],
      "metadata": {
        "execution": {
          "iopub.status.busy": "2023-06-23T08:00:56.440673Z",
          "iopub.execute_input": "2023-06-23T08:00:56.441013Z",
          "iopub.status.idle": "2023-06-23T08:01:04.132041Z",
          "shell.execute_reply.started": "2023-06-23T08:00:56.440986Z",
          "shell.execute_reply": "2023-06-23T08:01:04.131021Z"
        },
        "trusted": true,
        "id": "uCoSh-Gxs4f2"
      },
      "execution_count": null,
      "outputs": []
    },
    {
      "cell_type": "markdown",
      "source": [
        "### Finding: In general, the number of zero sales is decreasing over time. Besides Christmas, there are also large numbers of zero sales on New Year's Day."
      ],
      "metadata": {
        "id": "9a_LMo9is4f2"
      }
    },
    {
      "cell_type": "markdown",
      "source": [
        "We start off by counting the number of target series with zero sales for each day. The counts of zero sales has a general **downward trend**, suggesting that periods with no sales are becoming less frequent and that the stores are generating positive sales consistently. This could be due to changes in some covariates that have a **temporal relationship** with the sales numbers, which we will investigate later.\n",
        "\n",
        "Besides Christmas, we also have large counts of zero sales on New Year's Day across the years. Similarly, many stores could be closed on this occasion, which we should take note of in our models later. Interestingly, there are great fluctations in the count of zero sales between 2014 and 2015."
      ],
      "metadata": {
        "id": "QoDvwnXrs4f2"
      }
    },
    {
      "cell_type": "code",
      "source": [
        "def plot_zero_count_ts():\n",
        "    zero_count_ts = (sales_ts.eq(0)).sum(axis=1).to_frame(\"zero_sales_ct\").reset_index()\n",
        "    zero_count_filtered = zero_count_ts[zero_count_ts.zero_sales_ct.gt(1500)].reset_index(drop=True)\n",
        "    high_zero_dates = zero_count_filtered.date.dt.strftime(\"%Y-%m-%d\")\n",
        "    high_zero_dates = [d for d in high_zero_dates if not d.endswith(\"12-25\")]\n",
        "    high_zero_counts = zero_count_filtered[zero_count_filtered.date.isin(high_zero_dates)].zero_sales_ct.tolist()\n",
        "\n",
        "    cprint(\n",
        "        \"Dates with zero sales\",\n",
        "        f\"Dates (excl. Christmas) with zero sales: {high_zero_dates}\",\n",
        "        f\"Corresponding counts of zero sales     : {high_zero_counts}\",\n",
        "        f\"Total number of target series          : {num_ts}\",\n",
        "    )\n",
        "\n",
        "    plt.figure(figsize=(18, 6))\n",
        "\n",
        "    sns.lineplot(data=zero_count_ts, x=\"date\", y=\"zero_sales_ct\")\n",
        "    sns.scatterplot(\n",
        "        data=zero_count_filtered, x=\"date\", y=\"zero_sales_ct\",\n",
        "        color=COLORS[1],\n",
        "        edgecolor=COLORS[1],\n",
        "        zorder=2,\n",
        "    )\n",
        "    for j in range(len(zero_count_filtered.index)):\n",
        "        ha = \"left\" if j%2==0 else \"right\"\n",
        "        offset = pd.Timedelta(7, \"d\") if ha==\"left\" else pd.Timedelta(-7, \"d\")\n",
        "        plt.text(\n",
        "            x=zero_count_filtered.date[j]+offset, y=zero_count_filtered.zero_sales_ct[j],\n",
        "            s=zero_count_filtered.date[j].strftime(\"%Y-%m-%d\"),\n",
        "            ha=ha,\n",
        "            va=\"center\",\n",
        "            size=14,\n",
        "        )\n",
        "    plt.ylabel(\"Counts of Zero Sales\")\n",
        "    plt.title(\"Total Counts of Zero Sales Across All Target Series\")\n",
        "    plt.tight_layout()\n",
        "    plt.show()\n",
        "\n",
        "plot_zero_count_ts()"
      ],
      "metadata": {
        "_kg_hide-input": true,
        "execution": {
          "iopub.status.busy": "2023-06-23T08:01:04.133409Z",
          "iopub.execute_input": "2023-06-23T08:01:04.133674Z",
          "iopub.status.idle": "2023-06-23T08:01:04.783235Z",
          "shell.execute_reply.started": "2023-06-23T08:01:04.133649Z",
          "shell.execute_reply": "2023-06-23T08:01:04.78231Z"
        },
        "trusted": true,
        "id": "_72iISHls4f2"
      },
      "execution_count": null,
      "outputs": []
    },
    {
      "cell_type": "markdown",
      "source": [
        "### Finding: There are some target series with all values equal to zero."
      ],
      "metadata": {
        "id": "nKoG5jARs4f2"
      }
    },
    {
      "cell_type": "markdown",
      "source": [
        "Our training data has 53 target series with all values equal to zero. This could be due to poor sales performance or product unavailability. What is interesting here is that all stores have about 0 to 3 zero constant target series. If we consider this by the product family, books have the most number of zero constant target series. It appears that the **problem of zero sales could be due to the type of product** being sold."
      ],
      "metadata": {
        "id": "31_XvUbqs4f2"
      }
    },
    {
      "cell_type": "code",
      "source": [
        "def plot_constant_ts_distribution():\n",
        "    const_ts = sales_ts.iloc[:, (sales_ts.std()==0).tolist()]\n",
        "    const_ts_labels = const_ts.columns.to_frame().reset_index(drop=True)\n",
        "\n",
        "    cprint(\n",
        "        \"Constant target series\",\n",
        "        f\"Number of constant target series: {len(const_ts.columns)}\",\n",
        "        f\"List of unique constant values  : {const_ts.iloc[0].unique().tolist()}\",\n",
        "    )\n",
        "\n",
        "    fig = plt.figure(figsize=(18, 9))\n",
        "\n",
        "    ax0 = sns.countplot(\n",
        "        data=const_ts_labels, x=\"store_nbr\",\n",
        "        color=COLORS[0],\n",
        "        ax=fig.add_subplot(211),\n",
        "    )\n",
        "    ax0.bar_label(ax0.containers[0], size=14)\n",
        "    plt.ylabel(\"Number of\\nZero Constant Target Series\")\n",
        "    plt.title(\"Stores with Zero Constant Target Series\")\n",
        "\n",
        "    ax1 = sns.countplot(\n",
        "        data=const_ts_labels, x=\"family\",\n",
        "        color=COLORS[1],\n",
        "        ax=fig.add_subplot(212),\n",
        "    )\n",
        "    ax1.bar_label(ax1.containers[0], size=14)\n",
        "    plt.ylabel(\"Number of\\nZero Constant Target Series\")\n",
        "    plt.title(\"Families with Zero Constant Target Series\")\n",
        "\n",
        "    plt.tight_layout()\n",
        "    plt.show()\n",
        "\n",
        "plot_constant_ts_distribution()"
      ],
      "metadata": {
        "_kg_hide-input": true,
        "execution": {
          "iopub.status.busy": "2023-06-23T08:01:04.784205Z",
          "iopub.execute_input": "2023-06-23T08:01:04.784606Z",
          "iopub.status.idle": "2023-06-23T08:01:05.913807Z",
          "shell.execute_reply.started": "2023-06-23T08:01:04.784584Z",
          "shell.execute_reply": "2023-06-23T08:01:05.912764Z"
        },
        "trusted": true,
        "id": "yED6wxJZs4f2"
      },
      "execution_count": null,
      "outputs": []
    },
    {
      "cell_type": "markdown",
      "source": [
        "### Finding: There are many target series with leading zeros."
      ],
      "metadata": {
        "id": "acXJ2N5_s4f2"
      }
    },
    {
      "cell_type": "markdown",
      "source": [
        "We look at some possible patterns of zero store sales. The zero constant target series are removed to get a better picture of the remaining target series. It turns out that we have many target series with leading zeros, with some series consisting of thousands of leading zeros. This suggests the possibility of product unavailability, or simply poor sales performance at the start.\n",
        "\n",
        "We note that the distribution of leading zeros is **fairly consistent** across the stores, with only a few stores having the boxplots lying above the rest. Examples are store numbers 52, 53. This could mean that some stores are more recently open, so there are no sales at the start of the target series.\n",
        "\n",
        "On the other hand, the distribution of leading zeros **varies** across the families of products. This suggests that the **problem of leading zeros could be related to the type of products**, like the target series for books all having thousands of leading zeros. This supports the previous finding above."
      ],
      "metadata": {
        "id": "2hJJarnzs4f2"
      }
    },
    {
      "cell_type": "code",
      "source": [
        "def count_leading_zeros(x):\n",
        "    nonzero_idx = np.where(x!=0)[0]\n",
        "    if len(nonzero_idx) > 0:\n",
        "        return nonzero_idx[0]\n",
        "    else:\n",
        "        return len(x)\n",
        "\n",
        "def plot_leading_zeros_distribution():\n",
        "    leading_zeros = sales_ts.apply(count_leading_zeros).to_frame(\"num_leading_zeros\").reset_index()\n",
        "    leading_zeros = leading_zeros[leading_zeros.num_leading_zeros.lt(train_len)]\n",
        "\n",
        "    cprint(\n",
        "        \"Time series with leading zeros (excluding zero constant target series)\",\n",
        "        f\"Total number of time series                : {len(leading_zeros.index)}\",\n",
        "        f\"Number of time series with >1 leading zeros: {leading_zeros.num_leading_zeros.gt(1).sum()}\",\n",
        "    )\n",
        "\n",
        "    plot_kwargs = {\n",
        "        \"linewidth\": 2,\n",
        "        \"flierprops\": {\"alpha\": 0.5},\n",
        "    }\n",
        "\n",
        "    fig = plt.figure(figsize=(18, 12))\n",
        "\n",
        "    ax0 = sns.boxplot(\n",
        "        data=leading_zeros, x=\"store_nbr\", y=\"num_leading_zeros\",\n",
        "        color=COLORS[0],\n",
        "        ax=fig.add_subplot(211),\n",
        "        **plot_kwargs,\n",
        "    )\n",
        "    plt.ylabel(\"Number of Leading Zeros\")\n",
        "    plt.title(\"Distribution of Leading Zeros (Excluding Zero Constant Target Series) within Each Store\")\n",
        "\n",
        "    ax1 = sns.boxplot(\n",
        "        data=leading_zeros, x=\"family\", y=\"num_leading_zeros\",\n",
        "        color=COLORS[1],\n",
        "        ax=fig.add_subplot(212),\n",
        "        **plot_kwargs,\n",
        "    )\n",
        "    plt.xticks(rotation=90)\n",
        "    plt.ylabel(\"Number of Leading Zeros\")\n",
        "    plt.title(\"Distribution of Leading Zeros (Excluding Zero Constant Target Series) within Each Family\")\n",
        "\n",
        "    plt.tight_layout()\n",
        "    plt.show()\n",
        "\n",
        "plot_leading_zeros_distribution()"
      ],
      "metadata": {
        "_kg_hide-input": true,
        "execution": {
          "iopub.status.busy": "2023-06-23T08:01:05.914885Z",
          "iopub.execute_input": "2023-06-23T08:01:05.915166Z",
          "iopub.status.idle": "2023-06-23T08:01:08.208849Z",
          "shell.execute_reply.started": "2023-06-23T08:01:05.915142Z",
          "shell.execute_reply": "2023-06-23T08:01:08.207509Z"
        },
        "trusted": true,
        "id": "bMTu5dlls4f2"
      },
      "execution_count": null,
      "outputs": []
    },
    {
      "cell_type": "markdown",
      "source": [
        "### Finding: There are few target series with trailing zeros."
      ],
      "metadata": {
        "id": "aecjg3lXs4f3"
      }
    },
    {
      "cell_type": "markdown",
      "source": [
        "We can also examine the number of trailing zeros at the end of the target series. Similarly, we remove the zero constant target series here. There are not as many target series with trailing zeros, suggesting **consistent** sales across the years.\n",
        "\n",
        "However, the presence of target series having hundreds of trailing zeros could be due to poor sales performance or that the product is no longer available towards the end. An example would be lawn and garden. In this case, **generating zero forecasts** for such target series would be a reasonable approach."
      ],
      "metadata": {
        "id": "MlBnVIdps4f3"
      }
    },
    {
      "cell_type": "code",
      "source": [
        "def count_trailing_zeros(x):\n",
        "    nonzero_idx = np.where(x!=0)[0]\n",
        "    if len(nonzero_idx) > 0:\n",
        "        return len(x) - nonzero_idx[-1] - 1\n",
        "    else:\n",
        "        return len(x)\n",
        "\n",
        "def plot_trailing_zeros_distribution():\n",
        "    trailing_zeros = sales_ts.apply(count_trailing_zeros).to_frame(\"num_trailing_zeros\").reset_index()\n",
        "    trailing_zeros = trailing_zeros[trailing_zeros.num_trailing_zeros.lt(train_len)]\n",
        "\n",
        "    cprint(\n",
        "        \"Target series with trailing zeros (excluding zero constant target series)\",\n",
        "        f\"Total number of time series                : {len(trailing_zeros.index)}\",\n",
        "        f\"Number of target series with trailing zeros: {trailing_zeros.num_trailing_zeros.gt(0).sum()}\",\n",
        "    )\n",
        "\n",
        "    plot_kwargs = {\n",
        "        \"linewidth\": 2,\n",
        "        \"flierprops\": {\"alpha\": 0.5},\n",
        "    }\n",
        "\n",
        "    fig = plt.figure(figsize=(18, 12))\n",
        "\n",
        "    ax0 = sns.boxplot(\n",
        "        data=trailing_zeros, x=\"store_nbr\", y=\"num_trailing_zeros\",\n",
        "        color=COLORS[0],\n",
        "        ax=fig.add_subplot(211),\n",
        "        **plot_kwargs,\n",
        "    )\n",
        "    plt.ylabel(\"Number of Trailing Zeros\")\n",
        "    plt.title(\"Distribution of Trailing Zeros (Excluding Zero Constant Target Series) within Each Store\")\n",
        "\n",
        "    ax1 = sns.boxplot(\n",
        "        data=trailing_zeros, x=\"family\", y=\"num_trailing_zeros\",\n",
        "        color=COLORS[1],\n",
        "        ax=fig.add_subplot(212),\n",
        "        **plot_kwargs,\n",
        "    )\n",
        "    plt.xticks(rotation=90)\n",
        "    plt.ylabel(\"Number of Trailing Zeros\")\n",
        "    plt.title(\"Distribution of Trailing Zeros (Excluding Zero Constant Target Series) within Each Family\")\n",
        "\n",
        "    plt.tight_layout()\n",
        "    plt.show()\n",
        "\n",
        "plot_trailing_zeros_distribution()"
      ],
      "metadata": {
        "_kg_hide-input": true,
        "execution": {
          "iopub.status.busy": "2023-06-23T08:01:08.210497Z",
          "iopub.execute_input": "2023-06-23T08:01:08.210804Z",
          "iopub.status.idle": "2023-06-23T08:01:10.494926Z",
          "shell.execute_reply.started": "2023-06-23T08:01:08.210781Z",
          "shell.execute_reply": "2023-06-23T08:01:10.493752Z"
        },
        "trusted": true,
        "id": "iL9NWbnYs4f3"
      },
      "execution_count": null,
      "outputs": []
    },
    {
      "cell_type": "markdown",
      "source": [
        "### Finding: The average sales is correlated with oil prices, promotions, and store transactions."
      ],
      "metadata": {
        "id": "D2HecPl3s4f3"
      }
    },
    {
      "cell_type": "markdown",
      "source": [
        "After analyzing the target series, we look at possible covariates to help improve our models. The `transactions` column is considered as a past covariate because only its past values are known at the point of forecasting. To forecast the sales for tomorrow, we only know the values of the transactions that happened up to today.\n",
        "\n",
        "On the other hand, the `oil` and `onpromotion` columns are future covariates because their current (and possibly future) values are known at the point of forecasting. To forecast the sales for tomorrow, we have the values of oil prices and promotion values for tomorrow. This makes sense because setting the promotion values is usually done in advance to promote future store sales. It is unusual for us to know the oil prices in advance, but since we are given the data, one possible explanation is that we are using estimates of the oil prices.\n",
        "\n",
        "As mentioned previously, the `transactions` and `onpromotion` columns will be scaled before computing the average values. The average sales are computed by taking the average across all 1782 target series. From the plots below, we observe that:\n",
        "* Oil prices are **negatively** correlated with average sales. With Ecuador being an oil-dependent country, larger oil prices could have inflationary effects, resulting in smaller store sales.\n",
        "* Promotion values are **positively** correlated with average sales. This is straightfoward because with more ongoing promotions, this attracts human traffic and thus encourages greater sales. Another interesting observation is that there are **zero promotion values up to early 2014**.\n",
        "* Store transactions are **positively** correlated with average sales. The grocery stores consist of many product families which complement each other, like poultry, produce, and other food products. It makes sense that if a person buys some meat, that person is also more likely to buy vegetables as a complement for a balanced diet. As such, the sales for one product could affect another, so stores with larger transactions should also have larger sales for each product family in general.\n",
        "* The average sales has a general **upward trend**, with sharp declines during Christmas and New Year as explained earlier. With smaller oil prices, greater promotion values and larger store transactions, these seem to support the correlation with average sales as explained above."
      ],
      "metadata": {
        "id": "zsslE3F2s4f3"
      }
    },
    {
      "cell_type": "code",
      "source": [
        "def plot_sales_correlation():\n",
        "    tr_ts_scaled = tr_ts.copy()\n",
        "    tr_ts_scaled[tr_ts_scaled.columns] = scaler.fit_transform(tr_ts_scaled)\n",
        "\n",
        "    promo_ts_scaled = promo_ts.copy()\n",
        "    promo_ts_scaled[promo_ts_scaled.columns] = scaler.fit_transform(promo_ts_scaled)\n",
        "\n",
        "    mean_sales_ts_scaled = sales_ts_scaled.mean(axis=1).to_frame(\"sales\").reset_index()\n",
        "    mean_promo_ts_scaled = promo_ts_scaled.mean(axis=1).to_frame(\"onpromotion\").reset_index()\n",
        "    mean_tr_ts_scaled = tr_ts_scaled.mean(axis=1).to_frame(\"transactions\").reset_index()\n",
        "\n",
        "    cprint(\n",
        "        \"Covariates: oil, onpromotion, transactions\",\n",
        "        \"Past covariates  : transactions\",\n",
        "        \"Future covariates: oil, onpromotion\",\n",
        "    )\n",
        "\n",
        "    plot_kwargs = {\n",
        "        \"scatter_kws\": {\"edgecolor\": \"white\"},\n",
        "        \"line_kws\": {\"lw\": 3},\n",
        "    }\n",
        "\n",
        "    fig = plt.figure(figsize=(18, 15))\n",
        "    gs = fig.add_gridspec(4, 2, width_ratios=(1, 2))\n",
        "\n",
        "    sns.lineplot(\n",
        "        data=mean_sales_ts_scaled,\n",
        "        x=\"date\",\n",
        "        y=\"sales\",\n",
        "        ax=fig.add_subplot(gs[0, :]),\n",
        "    )\n",
        "    plt.title(\"Average Sales Over Time\")\n",
        "\n",
        "    sns.regplot(\n",
        "        x=oil.oil.iloc[:train_len], y=mean_sales_ts_scaled.sales,\n",
        "        ax=fig.add_subplot(gs[1, 0]),\n",
        "        color=COLORS[1],\n",
        "        **plot_kwargs,\n",
        "    )\n",
        "    plt.ylabel(\"Average Sales\")\n",
        "    plt.title(\"Average Sales vs. Oil Prices\")\n",
        "\n",
        "    sns.lineplot(\n",
        "        data=oil.iloc[:train_len, :], x=\"date\", y=\"oil\",\n",
        "        ax=fig.add_subplot(gs[1, 1]),\n",
        "        color=COLORS[1],\n",
        "    )\n",
        "    plt.ylabel(\"Oil Prices\")\n",
        "    plt.title(\"Oil Prices Over Time\")\n",
        "\n",
        "    sns.regplot(\n",
        "        x=mean_promo_ts_scaled.onpromotion, y=mean_sales_ts_scaled.sales,\n",
        "        ax=fig.add_subplot(gs[2, 0]),\n",
        "        color=COLORS[2],\n",
        "        **plot_kwargs,\n",
        "    )\n",
        "    plt.xlabel(\"onpromotion\")\n",
        "    plt.ylabel(\"Average Sales\")\n",
        "    plt.title(\"Average Sales vs. Promotions\")\n",
        "\n",
        "    sns.lineplot(\n",
        "        data=mean_promo_ts_scaled, x=\"date\", y=\"onpromotion\",\n",
        "        ax=fig.add_subplot(gs[2, 1]),\n",
        "        color=COLORS[2],\n",
        "    )\n",
        "    plt.ylabel(\"Average Promotions\")\n",
        "    plt.title(\"Average Promotions Over Time\")\n",
        "\n",
        "    sns.regplot(\n",
        "        x=mean_tr_ts_scaled.transactions, y=mean_sales_ts_scaled.sales,\n",
        "        ax=fig.add_subplot(gs[3, 0]),\n",
        "        color=COLORS[3],\n",
        "        **plot_kwargs,\n",
        "    )\n",
        "    plt.xlabel(\"transactions\")\n",
        "    plt.ylabel(\"Average Sales\")\n",
        "    plt.title(\"Average Sales vs. Store Transactions\")\n",
        "\n",
        "    sns.lineplot(\n",
        "        data=mean_tr_ts_scaled, x=\"date\", y=\"transactions\",\n",
        "        ax=fig.add_subplot(gs[3, 1]),\n",
        "        color=COLORS[3],\n",
        "    )\n",
        "    plt.ylabel(\"Average Transactions\")\n",
        "    plt.title(\"Average Transactions Over Time\")\n",
        "\n",
        "    plt.tight_layout()\n",
        "    plt.show()\n",
        "\n",
        "plot_sales_correlation()"
      ],
      "metadata": {
        "_kg_hide-input": true,
        "execution": {
          "iopub.status.busy": "2023-06-23T08:01:10.496553Z",
          "iopub.execute_input": "2023-06-23T08:01:10.497555Z",
          "iopub.status.idle": "2023-06-23T08:01:16.113845Z",
          "shell.execute_reply.started": "2023-06-23T08:01:10.497522Z",
          "shell.execute_reply": "2023-06-23T08:01:16.112884Z"
        },
        "trusted": true,
        "id": "E37q9aUMs4f3"
      },
      "execution_count": null,
      "outputs": []
    },
    {
      "cell_type": "markdown",
      "source": [
        "### Finding: Most states only have stores in one city. For states with stores in multiple cities, the number of stores is generally dominated by one city."
      ],
      "metadata": {
        "id": "zIf2JWQMs4f3"
      }
    },
    {
      "cell_type": "markdown",
      "source": [
        "Besides past and future covariates, we also have static covariates which are constant over time. The `city` and `state` columns from the store data are considered static covariates because they represent unique characteristics of the store and do not change over time. Other examples are `store_nbr` and `family`, which we have looked at earlier.\n",
        "\n",
        "The stacked bar chart below denotes the number of stores within each state, and the units are labeled by the corresponding store numbers. They are color-coded by each unique city within the state. Using Manabi as an example, store number 54 belongs to one city while store numbers 52, 53 belong to another city.\n",
        "\n",
        "We can see that most states only have one color, meaning that there are stores in only one city within each state. Some states like Guayas and Pichincha have stores in multiple cities, but the stores are dominated by one city. In other words, there **may not be a noticeable difference between the city-level and state-level impacts** on store sales, but this requires some experimentation later."
      ],
      "metadata": {
        "id": "VKU1kcWJs4f3"
      }
    },
    {
      "cell_type": "code",
      "source": [
        "def plot_city_state_distribution(store):\n",
        "    cprint(\n",
        "        \"Static covariates: city, state\",\n",
        "        f\"Number of unique cities                      : {store.city.nunique()}\",\n",
        "        f\"Number of unique states                      : {store.state.nunique()}\",\n",
        "        f\"Number of states with stores in only one city: {(store.groupby('state').city.nunique().eq(1)).sum()}\",\n",
        "    )\n",
        "\n",
        "    store = store.copy().sort_values([\"state\", \"city\", \"store_nbr\"])\n",
        "    state_list = store.state.unique()\n",
        "    bar_bottom = np.zeros(len(state_list))\n",
        "    counter = {}\n",
        "\n",
        "    fig = plt.figure(figsize=(18, 9))\n",
        "\n",
        "    for num in store.store_nbr.unique():\n",
        "        curr_state, curr_city = store.loc[store.store_nbr.eq(num), [\"state\", \"city\"]].values[0]\n",
        "        if curr_state not in counter:\n",
        "            counter[curr_state] = []\n",
        "        if curr_city not in counter[curr_state]:\n",
        "            counter[curr_state].append(curr_city)\n",
        "        state_ind = (state_list==curr_state).astype(int)\n",
        "        plt.bar(\n",
        "            x=state_list, height=state_ind,\n",
        "            bottom=bar_bottom,\n",
        "            color=COLORS[len(counter[curr_state])-1],\n",
        "            edgecolor=\"white\",\n",
        "            label=f\"City {len(counter[curr_state])-1}\",\n",
        "        )\n",
        "        bar_bottom += state_ind\n",
        "        running_total = bar_bottom[np.argmax(state_ind)]\n",
        "        plt.text(\n",
        "            x=curr_state, y=running_total-0.6,\n",
        "            s=num,\n",
        "            size=14,\n",
        "            color=\"white\",\n",
        "            va=\"center\",\n",
        "            ha=\"center\",\n",
        "        )\n",
        "    handles, labels = plt.gca().get_legend_handles_labels()\n",
        "    unique_labels = sorted(list(set(labels)))\n",
        "    unique_handles = [handles[labels.index(label)] for label in unique_labels]\n",
        "    plt.legend(unique_handles, unique_labels, title=\"Unique Cities per State\")\n",
        "    plt.xticks(rotation=90)\n",
        "    plt.yticks(list(range(0, 22, 3)))\n",
        "    plt.xlabel(\"state\")\n",
        "    plt.ylabel(\"Number of Stores\")\n",
        "    plt.title(\"Distribution of Stores Across Cities and States\")\n",
        "\n",
        "    plt.tight_layout()\n",
        "    plt.show()\n",
        "\n",
        "plot_city_state_distribution(store)"
      ],
      "metadata": {
        "_kg_hide-input": true,
        "execution": {
          "iopub.status.busy": "2023-06-23T08:01:16.115137Z",
          "iopub.execute_input": "2023-06-23T08:01:16.1157Z",
          "iopub.status.idle": "2023-06-23T08:01:18.080485Z",
          "shell.execute_reply.started": "2023-06-23T08:01:16.115668Z",
          "shell.execute_reply": "2023-06-23T08:01:18.079039Z"
        },
        "trusted": true,
        "id": "VG0QwZ69s4f3"
      },
      "execution_count": null,
      "outputs": []
    },
    {
      "cell_type": "markdown",
      "source": [
        "### Finding: Each cluster is dominated by one store type, and most store types have multiple clusters."
      ],
      "metadata": {
        "id": "v8Pn0ovUs4f3"
      }
    },
    {
      "cell_type": "markdown",
      "source": [
        "The store data also has other static covariates represented by the `type` and `cluster` columns. We have another stacked bar chart which denotes the number of stores within each cluster, and the units are labeled by the corresponding store numbers. In this case, the units are color-coded by the store type that they belong to. For example, stores within clusters 1, 2, 4, 8, 9, 13 are all of the same type.\n",
        "\n",
        "Because most clusters only have one color, each of them are dominated by one store type. On the other hand, most store types exist in multiple clusters. This raises the **possibility of cluster-level and type-level effects**."
      ],
      "metadata": {
        "id": "tz8Y9F9Ts4f3"
      }
    },
    {
      "cell_type": "code",
      "source": [
        "def plot_cluster_type_distribution(store):\n",
        "    cprint(\n",
        "        \"Static covariates: cluster, type\",\n",
        "        f\"Number of unique store cluster: {store.cluster.nunique()}\",\n",
        "        f\"Number of unique store type   : {store.type.nunique()}\",\n",
        "    )\n",
        "    store = store.copy().sort_values([\"type\", \"cluster\"])\n",
        "    cluster_list = store.cluster.unique().astype(str)\n",
        "    type_list = store.type.sort_values().unique()\n",
        "    bar_bottom = np.zeros(len(cluster_list))\n",
        "    color_map = {s_type: c for s_type, c in zip(type_list, COLORS)}\n",
        "\n",
        "    fig = plt.figure(figsize=(18, 4))\n",
        "\n",
        "    for num in store.store_nbr.unique():\n",
        "        curr_cluster, curr_type = store.loc[store.store_nbr.eq(num), [\"cluster\", \"type\"]].astype(str).values[0]\n",
        "        cluster_ind = (cluster_list==curr_cluster).astype(int)\n",
        "        plt.bar(\n",
        "            x=cluster_list, height=cluster_ind,\n",
        "            bottom=bar_bottom,\n",
        "            zorder=2,\n",
        "            color=color_map[curr_type],\n",
        "            label=curr_type,\n",
        "            edgecolor=\"white\",\n",
        "        )\n",
        "        bar_bottom += cluster_ind\n",
        "        running_total = bar_bottom[np.argmax(cluster_ind)]\n",
        "        plt.text(\n",
        "            x=curr_cluster, y=running_total-0.6,\n",
        "            s=num,\n",
        "            size=14,\n",
        "            color=\"white\",\n",
        "            va=\"center\",\n",
        "            ha=\"center\",\n",
        "        )\n",
        "    handles, labels = plt.gca().get_legend_handles_labels()\n",
        "    unique_labels = sorted(list(set(labels)))\n",
        "    unique_handles = [handles[labels.index(label)] for label in unique_labels]\n",
        "    plt.legend(unique_handles, unique_labels, title=\"Store Type\")\n",
        "    plt.xlabel(\"cluster\")\n",
        "    plt.ylabel(\"Number of Stores\")\n",
        "    plt.yticks(list(range(0, 9, 2)))\n",
        "    plt.title(\"Distribution of Stores Across Clusters and Types\")\n",
        "\n",
        "    plt.tight_layout()\n",
        "    plt.show()\n",
        "\n",
        "plot_cluster_type_distribution(store)"
      ],
      "metadata": {
        "_kg_hide-input": true,
        "execution": {
          "iopub.status.busy": "2023-06-23T08:01:18.081854Z",
          "iopub.execute_input": "2023-06-23T08:01:18.082185Z",
          "iopub.status.idle": "2023-06-23T08:01:20.089146Z",
          "shell.execute_reply.started": "2023-06-23T08:01:18.082162Z",
          "shell.execute_reply": "2023-06-23T08:01:20.087505Z"
        },
        "trusted": true,
        "id": "6SNS2MQHs4f3"
      },
      "execution_count": null,
      "outputs": []
    },
    {
      "cell_type": "markdown",
      "source": [
        "### Finding: Some national holidays/events like Labor Day, Christmas, and the 2016 earthquake have larger impacts on sales."
      ],
      "metadata": {
        "id": "AELO9lKgs4f3"
      }
    },
    {
      "cell_type": "markdown",
      "source": [
        "Holidays/events are future covariates because the dates are usually known in advance. For simplicity, we will just use the term 'holiday' to denote both holidays and events throughout this notebook. As mentioned earlier, we need to compare sales between holiday and non-holiday periods. Looking at the boxplots below for each holiday, we note that **some have larger impacts on sales**. Examples are Labor Day (dia trabago), Christmas (navidad), and the 2016 earthquake (terremoto). We need to select the more useful ones to include in our models later."
      ],
      "metadata": {
        "id": "3vZvFT_Ks4f3"
      }
    },
    {
      "cell_type": "code",
      "source": [
        "def plot_national_holiday_distribution():\n",
        "    df = holiday_sales_merged.copy()\n",
        "    holiday_list = national_holidays.columns[1:]\n",
        "\n",
        "    cprint(\n",
        "        \"Future covariate: national holidays\",\n",
        "        f\"Number of unique national holidays: {len(holiday_list)+1}\"\n",
        "    )\n",
        "\n",
        "    plot_kwargs = {\n",
        "        \"palette\": COLORS[:2],\n",
        "        \"linewidth\": 2,\n",
        "        \"flierprops\": {\"alpha\": 0.2},\n",
        "        \"orient\": \"h\",\n",
        "    }\n",
        "\n",
        "    fig = plt.figure(figsize=(18, 20))\n",
        "\n",
        "    sns.boxplot(\n",
        "        data=df[(df.date.dt.weekday.eq(5)) & (df.no_holiday.eq(1))],\n",
        "        y=\"work_day\",\n",
        "        x=\"sales\",\n",
        "        ax=fig.add_subplot(531),\n",
        "        **plot_kwargs,\n",
        "    )\n",
        "    plt.yticks([0, 1], [\"normal Saturday\", \"work day\"])\n",
        "\n",
        "    sns.boxplot(\n",
        "        data=df[(df.date.dt.weekday.eq(0))],\n",
        "        y=\"nat_cyber monday\",\n",
        "        x=\"sales\",\n",
        "        ax=fig.add_subplot(532),\n",
        "        **plot_kwargs,\n",
        "    )\n",
        "    plt.yticks([0, 1], [\"normal Monday\", \"holiday\"])\n",
        "\n",
        "    sns.boxplot(\n",
        "        data=df[(df.date.dt.weekday.eq(4))],\n",
        "        y=\"nat_black friday\",\n",
        "        x=\"sales\",\n",
        "        ax=fig.add_subplot(533),\n",
        "        **plot_kwargs,\n",
        "    )\n",
        "    plt.yticks([0, 1], [\"normal Friday\", \"holiday\"])\n",
        "\n",
        "    for j, hol in enumerate(holiday_list.drop([\"nat_cyber monday\", \"nat_black friday\"])):\n",
        "        sns.boxplot(\n",
        "            data=df[(df[hol].eq(1)) | (df.no_holiday.eq(1))],\n",
        "            y=hol,\n",
        "            x=\"sales\",\n",
        "            ax=fig.add_subplot(5, 3, j+4),\n",
        "            **plot_kwargs,\n",
        "        )\n",
        "        plt.yticks([0, 1], [\"normal day\", \"holiday\"])\n",
        "\n",
        "    plt.suptitle(\"Distribution of Sales across Different National Holidays/Events\")\n",
        "    plt.tight_layout()\n",
        "    plt.show()\n",
        "\n",
        "plot_national_holiday_distribution()"
      ],
      "metadata": {
        "_kg_hide-input": true,
        "execution": {
          "iopub.status.busy": "2023-06-23T08:01:20.090854Z",
          "iopub.execute_input": "2023-06-23T08:01:20.09123Z",
          "iopub.status.idle": "2023-06-23T08:01:30.62201Z",
          "shell.execute_reply.started": "2023-06-23T08:01:20.0912Z",
          "shell.execute_reply": "2023-06-23T08:01:30.620569Z"
        },
        "trusted": true,
        "id": "334w-WBcs4f3"
      },
      "execution_count": null,
      "outputs": []
    },
    {
      "cell_type": "markdown",
      "source": [
        "### Finding: Regional and local holidays have smaller impacts on sales compared to national holidays."
      ],
      "metadata": {
        "id": "kzjW_miqs4f3"
      }
    },
    {
      "cell_type": "markdown",
      "source": [
        "Similarly, we investigate the effects of regional and local holidays using the boxplots below. Most boxplots look rather similar between the holiday and non-holiday periods, suggesting that regional and local holidays do not have as large of an impact on sales. This is reasonable because **national holidays are of a higher level of significance** and are thus more widely celebrated."
      ],
      "metadata": {
        "id": "kRN96x8Hs4f3"
      }
    },
    {
      "cell_type": "code",
      "source": [
        "def plot_regional_holiday_distribution():\n",
        "    df = holiday_sales_merged.copy()\n",
        "    states_with_regional_holiday = regional_holidays.state.unique()\n",
        "    df = df[df.state.isin(states_with_regional_holiday)]\n",
        "\n",
        "    cprint(\n",
        "        \"Future covariate: regional holidays\",\n",
        "        f\"Total number of states                 : {store.state.nunique()}\",\n",
        "        f\"Number of states with regional holidays: {len(states_with_regional_holiday)}\",\n",
        "        \"Number of unique regional holidays     : 1\",\n",
        "    )\n",
        "\n",
        "    fig = plt.figure(figsize=(18, 6))\n",
        "\n",
        "    sns.boxplot(\n",
        "        data=df[(df.provincializacion.eq(1)) | (df.no_holiday.eq(1))],\n",
        "        x=\"state\",\n",
        "        y=\"sales\",\n",
        "        hue=\"provincializacion\",\n",
        "        palette=COLORS[:2],\n",
        "        linewidth=2,\n",
        "        flierprops={\"alpha\": 0.2},\n",
        "        ax=fig.add_subplot(111),\n",
        "    )\n",
        "    plt.title(\"Distribution of Sales on Regional Holidays\")\n",
        "    leg = plt.legend(loc=\"center\", title=\"provincializacion\", bbox_to_anchor=(1.1, 0.5))\n",
        "    leg.texts[0].set_text(\"normal day\")\n",
        "    leg.texts[1].set_text(\"holiday\")\n",
        "\n",
        "    plt.tight_layout()\n",
        "    plt.show()\n",
        "\n",
        "plot_regional_holiday_distribution()"
      ],
      "metadata": {
        "_kg_hide-input": true,
        "execution": {
          "iopub.status.busy": "2023-06-23T08:01:30.623707Z",
          "iopub.execute_input": "2023-06-23T08:01:30.624031Z",
          "iopub.status.idle": "2023-06-23T08:01:31.499393Z",
          "shell.execute_reply.started": "2023-06-23T08:01:30.624004Z",
          "shell.execute_reply": "2023-06-23T08:01:31.498145Z"
        },
        "trusted": true,
        "id": "OD-t6ttis4f3"
      },
      "execution_count": null,
      "outputs": []
    },
    {
      "cell_type": "code",
      "source": [
        "def plot_local_holiday_distribution():\n",
        "    df = holiday_sales_merged.copy()\n",
        "    holiday_list = local_holidays.columns[2:]\n",
        "\n",
        "    cprint(\n",
        "        \"Future covariate: local holidays\",\n",
        "        f\"Total number of cities              : {store.city.nunique()}\",\n",
        "        f\"Number of cities with local holidays: {local_holidays.city.nunique()}\",\n",
        "        f\"Number of unique local holidays     : {len(holiday_list)}\",\n",
        "    )\n",
        "\n",
        "    fig = plt.figure(figsize=(18, 18))\n",
        "\n",
        "    for j, hol in enumerate(holiday_list):\n",
        "        tmp = df[df.city.isin(local_holidays[local_holidays[hol].eq(1)].city.unique())]\n",
        "        sns.boxplot(\n",
        "            data=tmp[(tmp[hol].eq(1)) | (tmp.no_holiday.eq(1))],\n",
        "            x=\"city\",\n",
        "            y=\"sales\",\n",
        "            hue=hol,\n",
        "            palette=COLORS[:2],\n",
        "            linewidth=2,\n",
        "            flierprops={\"alpha\": 0.2},\n",
        "            ax=fig.add_subplot(3, 1, j+1),\n",
        "        )\n",
        "        leg = plt.legend(loc=\"center\", title=hol, bbox_to_anchor=(1.1, 0.5))\n",
        "        leg.texts[0].set_text(\"normal day\")\n",
        "        leg.texts[1].set_text(\"holiday\")\n",
        "\n",
        "    plt.suptitle(\"Distribution of Sales across Different Local Holidays\")\n",
        "    plt.tight_layout()\n",
        "    plt.show()\n",
        "\n",
        "plot_local_holiday_distribution()"
      ],
      "metadata": {
        "_kg_hide-input": true,
        "execution": {
          "iopub.status.busy": "2023-06-23T08:01:31.500712Z",
          "iopub.execute_input": "2023-06-23T08:01:31.502222Z",
          "iopub.status.idle": "2023-06-23T08:01:35.952795Z",
          "shell.execute_reply.started": "2023-06-23T08:01:31.50219Z",
          "shell.execute_reply": "2023-06-23T08:01:35.951374Z"
        },
        "trusted": true,
        "id": "4jW6l45Js4f3"
      },
      "execution_count": null,
      "outputs": []
    },
    {
      "cell_type": "markdown",
      "source": [
        "### Finding: Sales patterns can be captured by date-related features."
      ],
      "metadata": {
        "id": "tkAlmp4Ds4f3"
      }
    },
    {
      "cell_type": "markdown",
      "source": [
        "Date-related features like the month and year of each data point are considered future covariates because they are fixed and thus known in advance. To prevent the influence of holiday effects, we make sure to filter the data to only include non-holiday periods. We attempt to look at the distribution of sales for each covariate using boxplots. Some covariates like the days of the year have really large numbers of categories (365-366 days in a year), so inspecting that many boxplots may not be plausible. For such cases, we just compute the average sales (across all the target series) for each time period. The following date-related features are created:\n",
        "* `day`. With **paydays** being on the 15th and the last day of the month, we see that the sales tend to vary more around the same periods. In particular, this is more noticeable at the end/start of the month.\n",
        "* `month`. While most of the boxplots look the same, the sales tend to vary greatly in December. This could be a **seasonal pattern** in which people prepare early for Christmas or New Year's Day.\n",
        "* `year`. It is clear from the boxplots that the sales have a general **upward trend** across the year.\n",
        "* `day_of_week`. Sales tend to be greater on weekends, which are non-working days for most people. It is reasonable to say that they have more time to visit the grocery stores, which translates to greater sales.\n",
        "* `day_of_year` / `week_of_year`. The days of the year and weeks of the year give similar information to the months, but at **different levels of granularity**. To illustrate, while sales in the first week tend to be large, sales for the first day of the year is very small.\n",
        "* `date_index`. The date index (index of the target series) gives similar information to the years, but at a **higher level of granularity**. There are some greater fluctuations in the first half of the time period."
      ],
      "metadata": {
        "id": "oCKV6IzEs4f4"
      }
    },
    {
      "cell_type": "code",
      "source": [
        "def plot_date_distribution():\n",
        "    df = holiday_sales_merged.copy().sort_values([\"date\", \"store_nbr\", \"family\"], ignore_index=True)\n",
        "    df = df[df.no_holiday.eq(1)].reset_index(drop=True)\n",
        "    df[\"day\"] = df.date.dt.day\n",
        "    df[\"month\"] = df.date.dt.month\n",
        "    df[\"year\"] = df.date.dt.year\n",
        "    df[\"day_of_week\"] = df.date.dt.dayofweek\n",
        "    df[\"day_of_year\"] = df.date.dt.dayofyear\n",
        "    df[\"week_of_year\"] = df.date.dt.isocalendar().week.astype(int)\n",
        "    df[\"date_index\"] = df.date.factorize()[0]\n",
        "\n",
        "    cprint(\n",
        "        \"Future covariates: day, month, year, day_of_week, day_of_year, week_of_year, date_index\",\n",
        "        \"day                     : paydays on the 15th and last day of the month\",\n",
        "        \"month                   : monthly seasonal patterns\",\n",
        "        \"year                    : general trends\",\n",
        "        \"day_of_week             : weekdays vs. weekends\",\n",
        "        \"day_of_year/week_of_year: different levels of granularity from month\",\n",
        "        \"date_index              : higher level of granularity than year\",\n",
        "    )\n",
        "\n",
        "    plot_kwargs = {\n",
        "        \"linewidth\": 2,\n",
        "        \"flierprops\": {\"alpha\": 0.2},\n",
        "        \"orient\": \"h\",\n",
        "    }\n",
        "\n",
        "    fig = plt.figure(figsize=(18, 24))\n",
        "    gs = fig.add_gridspec(5, 2, height_ratios=(3, 5, 2, 5, 5))\n",
        "\n",
        "    sns.boxplot(\n",
        "        data=df,\n",
        "        y=\"day_of_week\",\n",
        "        x=\"sales\",\n",
        "        color=COLORS[0],\n",
        "        ax=fig.add_subplot(gs[0, 0]),\n",
        "        **plot_kwargs,\n",
        "    )\n",
        "    plt.title(\"Distribution of Sales across the Days of the Week\")\n",
        "\n",
        "    sns.boxplot(\n",
        "        data=df,\n",
        "        y=\"month\",\n",
        "        x=\"sales\",\n",
        "        color=COLORS[1],\n",
        "        ax=fig.add_subplot(gs[1, 0]),\n",
        "        **plot_kwargs,\n",
        "    )\n",
        "    plt.title(\"Distribution of Sales across the Months\")\n",
        "\n",
        "    sns.boxplot(\n",
        "        data=df,\n",
        "        y=\"year\",\n",
        "        x=\"sales\",\n",
        "        color=COLORS[2],\n",
        "        ax=fig.add_subplot(gs[2, 0]),\n",
        "        **plot_kwargs,\n",
        "    )\n",
        "    plt.title(\"Distribution of Sales across the Years\")\n",
        "\n",
        "    sns.boxplot(\n",
        "        data=df,\n",
        "        y=\"day\",\n",
        "        x=\"sales\",\n",
        "        color=COLORS[3],\n",
        "        ax=fig.add_subplot(gs[:3, 1]),\n",
        "        **plot_kwargs,\n",
        "    )\n",
        "    plt.title(\"Distribution of Sales across the Days of the Month\")\n",
        "\n",
        "    sns.lineplot(\n",
        "        data=df.groupby(\"day_of_year\").sales.mean().reset_index(),\n",
        "        x=\"day_of_year\",\n",
        "        y=\"sales\",\n",
        "        color=COLORS[4],\n",
        "        ax=fig.add_subplot(gs[3, 0]),\n",
        "        linewidth=2,\n",
        "    )\n",
        "    plt.ylabel(\"Average Sales\")\n",
        "    plt.title(\"Average Sales across the Days of the Year\")\n",
        "\n",
        "    sns.lineplot(\n",
        "        data=df.groupby(\"week_of_year\").sales.mean().reset_index(),\n",
        "        x=\"week_of_year\",\n",
        "        y=\"sales\",\n",
        "        color=COLORS[5],\n",
        "        ax=fig.add_subplot(gs[3, 1]),\n",
        "        linewidth=2,\n",
        "    )\n",
        "    plt.ylabel(\"Average Sales\")\n",
        "    plt.title(\"Average Sales across the Weeks of the Year\")\n",
        "\n",
        "    sns.lineplot(\n",
        "        data=df.groupby(\"date_index\").sales.mean().reset_index(),\n",
        "        x=\"date_index\",\n",
        "        y=\"sales\",\n",
        "        color=COLORS[6],\n",
        "        ax=fig.add_subplot(gs[4, :]),\n",
        "        linewidth=2,\n",
        "    )\n",
        "    plt.ylabel(\"Average Sales\")\n",
        "    plt.title(\"Average Sales across the Date Index\")\n",
        "\n",
        "    plt.tight_layout()\n",
        "    plt.show()\n",
        "\n",
        "plot_date_distribution()"
      ],
      "metadata": {
        "_kg_hide-input": true,
        "execution": {
          "iopub.status.busy": "2023-06-23T08:01:35.954444Z",
          "iopub.execute_input": "2023-06-23T08:01:35.954736Z",
          "iopub.status.idle": "2023-06-23T08:01:42.843622Z",
          "shell.execute_reply.started": "2023-06-23T08:01:35.954711Z",
          "shell.execute_reply": "2023-06-23T08:01:42.842454Z"
        },
        "trusted": true,
        "id": "yw8bDzFvs4f4"
      },
      "execution_count": null,
      "outputs": []
    },
    {
      "cell_type": "markdown",
      "source": [
        "---"
      ],
      "metadata": {
        "id": "FRpiixMOs4f4"
      }
    },
    {
      "cell_type": "markdown",
      "source": [
        "# 3. Model Training"
      ],
      "metadata": {
        "id": "xe7YAfM-s4f4"
      }
    },
    {
      "cell_type": "markdown",
      "source": [
        "### Combining the datasets."
      ],
      "metadata": {
        "id": "Fdj5acIPs4f4"
      }
    },
    {
      "cell_type": "markdown",
      "source": [
        "Now that we are done with our analysis, we proceed to train our models for forecasting. To prepare our data for training, we need to combine the relevant datasets and include the useful covariates as discussed previously. The steps taken are documented in the code below.\n",
        "\n",
        "An additional step performed here is that for Christmas and New Year's Day, where most stores have zero sales (as they are likely closed), instead of filling the values with 0s, we temporarily set them to NaN and perform linear interpolation later. The reason for this is to **treat such days as regular holidays**, instead of having to include an additional variable to capture this unique behavior of store closure."
      ],
      "metadata": {
        "id": "5Twtgvkms4f4"
      }
    },
    {
      "cell_type": "code",
      "source": [
        "# keep selected national holidays with larger impacts on sales\n",
        "selected_holidays = [\n",
        "    \"nat_terremoto\", \"nat_navidad\", \"nat_dia la madre\", \"nat_dia trabajo\",\n",
        "    \"nat_primer dia ano\", \"nat_futbol\", \"nat_dia difuntos\",\n",
        "]\n",
        "keep_national_holidays = national_holidays[[\"date\", *selected_holidays]]\n",
        "\n",
        "# combine all the datasets\n",
        "data = pd.concat(\n",
        "    [train, test], axis=0, ignore_index=True,\n",
        ").merge(\n",
        "    transaction, on=[\"date\", \"store_nbr\"], how=\"left\",\n",
        ").merge(\n",
        "    oil, on=\"date\", how=\"left\",\n",
        ").merge(\n",
        "    store, on=\"store_nbr\", how=\"left\",\n",
        ").merge(\n",
        "    work_days, on=\"date\", how=\"left\",\n",
        ").merge(\n",
        "    keep_national_holidays, on=\"date\", how=\"left\",\n",
        ").sort_values([\"date\", \"store_nbr\", \"family\"], ignore_index=True)\n",
        "\n",
        "# fill columns with 0s to indicate absence of holidays/events\n",
        "data[[\"work_day\", *selected_holidays]] = data[[\"work_day\", *selected_holidays]].fillna(0)\n",
        "\n",
        "# include date-related future covariates\n",
        "data[\"day\"] = data.date.dt.day\n",
        "data[\"month\"] = data.date.dt.month\n",
        "data[\"year\"] = data.date.dt.year\n",
        "data[\"day_of_week\"] = data.date.dt.dayofweek\n",
        "data[\"day_of_year\"] = data.date.dt.dayofyear\n",
        "data[\"week_of_year\"] = data.date.dt.isocalendar().week.astype(int)\n",
        "data[\"date_index\"] = data.date.factorize()[0] # sort by date above before computing this\n",
        "\n",
        "# to impute days with zero sales using linear interpolation later\n",
        "zero_sales_dates = missing_dates + [f\"{j}-01-01\" for j in range(2013, 2018)]\n",
        "data.loc[(data.date.isin(zero_sales_dates))&(data.sales.eq(0))&(data.onpromotion.eq(0)), [\"sales\", \"onpromotion\"]] = np.nan\n",
        "\n",
        "# add prefixes for clarity\n",
        "data.store_nbr = data.store_nbr.apply(lambda x: (f\"store_nbr_{x}\"))\n",
        "data.cluster = data.cluster.apply(lambda x: (f\"cluster_{x}\"))\n",
        "data.type = data.type.apply(lambda x: (f\"type_{x}\"))\n",
        "\n",
        "# add prefixes to ensure no duplicate values between 'city' and 'state'\n",
        "data.city = data.city.apply(lambda x: (f\"city_{x.lower()}\"))\n",
        "data.state = data.state.apply(lambda x: (f\"state_{x.lower()}\"))\n",
        "\n",
        "data.head()"
      ],
      "metadata": {
        "execution": {
          "iopub.status.busy": "2023-06-23T08:01:42.84481Z",
          "iopub.execute_input": "2023-06-23T08:01:42.845127Z",
          "iopub.status.idle": "2023-06-23T08:01:52.11404Z",
          "shell.execute_reply.started": "2023-06-23T08:01:42.845102Z",
          "shell.execute_reply": "2023-06-23T08:01:52.112748Z"
        },
        "trusted": true,
        "id": "tz1Y4yS6s4f4"
      },
      "execution_count": null,
      "outputs": []
    },
    {
      "cell_type": "markdown",
      "source": [
        "### Defining the transformation pipelines."
      ],
      "metadata": {
        "id": "7pkFG84Bs4f4"
      }
    },
    {
      "cell_type": "markdown",
      "source": [
        "From here on, we begin exploring the functionalities of the Darts library for forecasting. We define the transformation pipelines here, which includes:\n",
        "* `MissingValuesFiller` to fill missing values like the NaN values we temporarily set previously. The default behavior is linear interpolation.\n",
        "* `StaticCovariatesTransformer` to perform encoding/scaling of our static covariates. Our static covariates are all categorical, so we specify to perform one-hot encoding using `OneHotEncoder` from sklearn.\n",
        "* `InvertibleMapper` to define a custom log transformer for our target series. Log transforming may help to stabilize our target series by reducing the magnitude of large values.\n",
        "* `Scaler` to perform scaling for all our target series and covariates. The default behavior is min-max scaling."
      ],
      "metadata": {
        "id": "u66jGoCbs4f4"
      }
    },
    {
      "cell_type": "code",
      "source": [
        "def get_pipeline(static_covs_transform=False, log_transform=False):\n",
        "    lst = []\n",
        "\n",
        "    # fill missing values\n",
        "    filler = MissingValuesFiller(n_jobs=-1)\n",
        "    lst.append(filler)\n",
        "\n",
        "    # specify transformation for static covariates\n",
        "    if static_covs_transform:\n",
        "        static_covs_transformer = StaticCovariatesTransformer(\n",
        "            transformer_cat=OneHotEncoder(),\n",
        "            n_jobs=-1,\n",
        "        )\n",
        "        lst.append(static_covs_transformer)\n",
        "\n",
        "    # perform log transformation on sales\n",
        "    if log_transform:\n",
        "        log_transformer = InvertibleMapper(\n",
        "            fn=np.log1p,\n",
        "            inverse_fn=np.expm1,\n",
        "            n_jobs=-1,\n",
        "        )\n",
        "        lst.append(log_transformer)\n",
        "\n",
        "    # rescale time series\n",
        "    scaler = Scaler()\n",
        "    lst.append(scaler)\n",
        "\n",
        "    # chain all transformations\n",
        "    pipeline = Pipeline(lst)\n",
        "    return pipeline"
      ],
      "metadata": {
        "execution": {
          "iopub.status.busy": "2023-06-23T08:01:52.115594Z",
          "iopub.execute_input": "2023-06-23T08:01:52.116028Z",
          "iopub.status.idle": "2023-06-23T08:01:52.123811Z",
          "shell.execute_reply.started": "2023-06-23T08:01:52.115991Z",
          "shell.execute_reply": "2023-06-23T08:01:52.122838Z"
        },
        "trusted": true,
        "id": "OocPd5les4f4"
      },
      "execution_count": null,
      "outputs": []
    },
    {
      "cell_type": "markdown",
      "source": [
        "### Extracting the target series together with the static covariates."
      ],
      "metadata": {
        "id": "Fn1wTyfbs4f4"
      }
    },
    {
      "cell_type": "markdown",
      "source": [
        "Before we convert our data for forecasting with Darts, there is a need to identify the type of models to use. Traditional statistical models like ARIMA are focused on forecasting a single target series per model. As we have 1782 target series, building 1782 models can be computationally expensive. This is where the concept of global models comes in, allowing a single model to forecast multiple target series by making use of shared information.\n",
        "\n",
        "However, using a single model can make it challenging to represent all relevant variables accurately. A compromise would be to use multiple models, where each model forecasts a specific group of target series. It then makes sense for each group of target series to be similar in nature, allowing the models to capture the unique patterns within each group.\n",
        "\n",
        "There are many ways to group the target series. From our findings above, the problems of zero sales and leading zeros could be related to the type of products sold, suggesting that **each product has its unique characteristics**. As such, a reasonable approach would be to have one model per product family, so we have a total of 33 models.\n",
        "\n",
        "For the static covariates, we have identified the `city`, `state`, `cluster`, `type`, `store_nbr`, `family` columns. Since we are grouping the target series by product family, we can drop the `family` column."
      ],
      "metadata": {
        "id": "RSu_xZins4f4"
      }
    },
    {
      "cell_type": "code",
      "source": [
        "def get_target_series(static_cols, log_transform=True):\n",
        "    target_dict = {}\n",
        "    pipe_dict = {}\n",
        "    id_dict = {}\n",
        "\n",
        "    for fam in tqdm_notebook(data.family.unique(), desc=\"Extracting target series\"):\n",
        "        # filter data for each model\n",
        "        df = data[(data.family.eq(fam)) & (data.date.le(train_end.strftime(\"%Y-%m-%d\")))]\n",
        "\n",
        "        # initialize transformation pipeline for target series\n",
        "        pipe = get_pipeline(True, log_transform=log_transform)\n",
        "\n",
        "        # extract target series together with static covariates\n",
        "        target = TimeSeries.from_group_dataframe(\n",
        "            df=df,\n",
        "            time_col=\"date\",\n",
        "            value_cols=\"sales\",\n",
        "            group_cols=\"store_nbr\",\n",
        "            static_cols=static_cols,\n",
        "        )\n",
        "\n",
        "        # record identity of each target series\n",
        "        target_id = [{\"store_nbr\": t.static_covariates.store_nbr[0], \"family\": fam}\n",
        "                     for t in target]\n",
        "        id_dict[fam] = target_id\n",
        "\n",
        "        # apply transformations\n",
        "        target = pipe.fit_transform(target)\n",
        "        target_dict[fam] = [t.astype(np.float32) for t in target]\n",
        "        pipe_dict[fam] = pipe[2:]\n",
        "\n",
        "    return target_dict, pipe_dict, id_dict"
      ],
      "metadata": {
        "execution": {
          "iopub.status.busy": "2023-06-23T08:01:52.125769Z",
          "iopub.execute_input": "2023-06-23T08:01:52.126515Z",
          "iopub.status.idle": "2023-06-23T08:01:52.143568Z",
          "shell.execute_reply.started": "2023-06-23T08:01:52.126488Z",
          "shell.execute_reply": "2023-06-23T08:01:52.142216Z"
        },
        "trusted": true,
        "id": "APintXuYs4f4"
      },
      "execution_count": null,
      "outputs": []
    },
    {
      "cell_type": "code",
      "source": [
        "# list of static covariates excluding 'store_nbr'; 'store_nbr' is automatically extracted using 'group_cols'\n",
        "static_cols = [\"city\", \"state\", \"type\", \"cluster\"]\n",
        "\n",
        "target_dict, pipe_dict, id_dict = get_target_series(static_cols)"
      ],
      "metadata": {
        "execution": {
          "iopub.status.busy": "2023-06-23T08:01:52.144682Z",
          "iopub.execute_input": "2023-06-23T08:01:52.145007Z",
          "iopub.status.idle": "2023-06-23T08:03:18.549192Z",
          "shell.execute_reply.started": "2023-06-23T08:01:52.144977Z",
          "shell.execute_reply": "2023-06-23T08:03:18.5484Z"
        },
        "trusted": true,
        "id": "CSAhBBgws4f4"
      },
      "execution_count": null,
      "outputs": []
    },
    {
      "cell_type": "markdown",
      "source": [
        "### Extracting the past and future covariates."
      ],
      "metadata": {
        "id": "egVSAzbks4f4"
      }
    },
    {
      "cell_type": "markdown",
      "source": [
        "For past covariates, we only have the `transactions` column. For future covariates, we have the `oil`, `onpromotion` columns, the holiday columns, as well as the date-related columns. To improve our models, we can extract additional covariates by computing the moving averages of our time series data using `MovingAverageFilter`. Doing so helps to smooth out the noise and capture the underlying patterns more effectively.\n",
        "\n",
        "\\* *We follow the reference notebook to use moving averages of `oil` and `onpromotion` with window sizes 7, 28. The code below supports the computation of moving averages for only the past and future covariates. To include the moving averages of the target series `sales`, some edits are needed.*"
      ],
      "metadata": {
        "id": "O6x6_Krhs4f4"
      }
    },
    {
      "cell_type": "code",
      "source": [
        "def get_covariates(\n",
        "    past_cols,\n",
        "    future_cols,\n",
        "    past_ma_cols=None,\n",
        "    future_ma_cols=None,\n",
        "    past_window_sizes=[7, 28],\n",
        "    future_window_sizes=[7, 28],\n",
        "):\n",
        "    past_dict = {}\n",
        "    future_dict = {}\n",
        "\n",
        "    # initialize transformation pipeline for covariates\n",
        "    covs_pipe = get_pipeline()\n",
        "\n",
        "    for fam in tqdm_notebook(data.family.unique(), desc=\"Extracting covariates\"):\n",
        "        # filter data for each model\n",
        "        df = data[data.family.eq(fam)]\n",
        "\n",
        "        # extract past covariates\n",
        "        past_covs = TimeSeries.from_group_dataframe(\n",
        "            df=df[df.date.le(train_end.strftime(\"%Y-%m-%d\"))],\n",
        "            time_col=\"date\",\n",
        "            value_cols=past_cols,\n",
        "            group_cols=\"store_nbr\",\n",
        "        )\n",
        "        past_covs = [p.with_static_covariates(None) for p in past_covs]\n",
        "        past_covs = covs_pipe.fit_transform(past_covs)\n",
        "        if past_ma_cols is not None:\n",
        "            for size in past_window_sizes:\n",
        "                ma_filter = MovingAverageFilter(window=size)\n",
        "                old_names = [f\"rolling_mean_{size}_{col}\" for col in past_ma_cols]\n",
        "                new_names = [f\"{col}_ma{size}\" for col in past_ma_cols]\n",
        "                past_ma_covs = [\n",
        "                    ma_filter.filter(p[past_ma_cols]).with_columns_renamed(old_names, new_names)\n",
        "                    for p in past_covs\n",
        "                ]\n",
        "                past_covs = [p.stack(p_ma) for p, p_ma in zip(past_covs, past_ma_covs)]\n",
        "\n",
        "        past_dict[fam] = [p.astype(np.float32) for p in past_covs]\n",
        "\n",
        "        # extract future covariates\n",
        "        future_covs = TimeSeries.from_group_dataframe(\n",
        "            df=df,\n",
        "            time_col=\"date\",\n",
        "            value_cols=future_cols,\n",
        "            group_cols=\"store_nbr\",\n",
        "        )\n",
        "        future_covs = [f.with_static_covariates(None) for f in future_covs]\n",
        "        future_covs = covs_pipe.fit_transform(future_covs)\n",
        "        if future_ma_cols is not None:\n",
        "            for size in future_window_sizes:\n",
        "                ma_filter = MovingAverageFilter(window=size)\n",
        "                old_names = [f\"rolling_mean_{size}_{col}\" for col in future_ma_cols]\n",
        "                new_names = [f\"{col}_ma{size}\" for col in future_ma_cols]\n",
        "                future_ma_covs = [\n",
        "                    ma_filter.filter(f[future_ma_cols]).with_columns_renamed(old_names, new_names)\n",
        "                    for f in future_covs\n",
        "                ]\n",
        "                future_covs = [f.stack(f_ma) for f, f_ma in zip(future_covs, future_ma_covs)]\n",
        "\n",
        "        future_dict[fam] = [f.astype(np.float32) for f in future_covs]\n",
        "\n",
        "    return past_dict, future_dict"
      ],
      "metadata": {
        "execution": {
          "iopub.status.busy": "2023-06-23T08:03:18.550599Z",
          "iopub.execute_input": "2023-06-23T08:03:18.551456Z",
          "iopub.status.idle": "2023-06-23T08:03:18.567039Z",
          "shell.execute_reply.started": "2023-06-23T08:03:18.551421Z",
          "shell.execute_reply": "2023-06-23T08:03:18.565688Z"
        },
        "trusted": true,
        "id": "ci1C_H_ns4f4"
      },
      "execution_count": null,
      "outputs": []
    },
    {
      "cell_type": "code",
      "source": [
        "# past covariates\n",
        "past_cols = [\"transactions\"]\n",
        "\n",
        "# future covariates\n",
        "future_cols = [\n",
        "    \"oil\", \"onpromotion\",\n",
        "    \"day\", \"month\", \"year\", \"day_of_week\", \"day_of_year\", \"week_of_year\", \"date_index\",\n",
        "    \"work_day\", *selected_holidays,\n",
        "]\n",
        "\n",
        "# additional past and future covariates from computing the moving averages\n",
        "past_ma_cols = None\n",
        "future_ma_cols = [\"oil\", \"onpromotion\"]\n",
        "\n",
        "past_dict, future_dict = get_covariates(past_cols, future_cols, past_ma_cols, future_ma_cols)"
      ],
      "metadata": {
        "execution": {
          "iopub.status.busy": "2023-06-23T08:03:18.574287Z",
          "iopub.execute_input": "2023-06-23T08:03:18.574634Z",
          "iopub.status.idle": "2023-06-23T08:04:45.003411Z",
          "shell.execute_reply.started": "2023-06-23T08:03:18.574612Z",
          "shell.execute_reply": "2023-06-23T08:04:45.002078Z"
        },
        "trusted": true,
        "id": "ugDnrbN0s4f4"
      },
      "execution_count": null,
      "outputs": []
    },
    {
      "cell_type": "markdown",
      "source": [
        "### Setting up the model trainer."
      ],
      "metadata": {
        "id": "unZec3gSs4f4"
      }
    },
    {
      "cell_type": "markdown",
      "source": [
        "We are now done with extracting the time series data for forecasting with Darts. The complete list of covariates is shown below."
      ],
      "metadata": {
        "id": "34yiySCBs4f4"
      }
    },
    {
      "cell_type": "code",
      "source": [
        "cprint(\n",
        "    \"List of all covariates:\",\n",
        "    \"Static covariates:\",\n",
        "    static_cols + [\"store_nbr\"],\n",
        "    \"\",\n",
        "    \"Past covariates:\",\n",
        "    past_dict[\"AUTOMOTIVE\"][0].components.tolist(),\n",
        "    \"\",\n",
        "    \"Future covariates:\",\n",
        "    future_dict[\"AUTOMOTIVE\"][0].components.tolist(),\n",
        ")"
      ],
      "metadata": {
        "_kg_hide-input": true,
        "execution": {
          "iopub.status.busy": "2023-06-23T08:04:45.005022Z",
          "iopub.execute_input": "2023-06-23T08:04:45.005415Z",
          "iopub.status.idle": "2023-06-23T08:04:45.013154Z",
          "shell.execute_reply.started": "2023-06-23T08:04:45.005342Z",
          "shell.execute_reply": "2023-06-23T08:04:45.011159Z"
        },
        "trusted": true,
        "id": "zk1BC_Lus4f4"
      },
      "execution_count": null,
      "outputs": []
    },
    {
      "cell_type": "markdown",
      "source": [
        "We now implement a model trainer to handle training, validation, and other related tasks. The trainer configuration is documented in the code below.\n",
        "\n",
        "Our forecasting horizon (`forecast_horizon`) is set to be 16 days, which is equal to the length of our test data. To evaluate our models, we will be performing time series cross-validation using a **rolling forecasting origin**. How this works is that we repeatedly build a training set expanding from the beginning of the target series. For each training set, the next 16 days (our forecasting horizon) will be our validation set. This process continues until we reach the end of the target series. The performance of the model is determined by the average RMSLE score across all the validation sets. A more detailed description of how this works can be found in this [online textbook](https://otexts.com/fpp3/tscv.html).\n",
        "\n",
        "We have pointed out earlier that there are some target series with many trailing zeros, which could be due to consistent poor sales performance or product unavailability. As such, **generating zero forecasts** for such target series is a logical choice. We set a window size (`zero_fc_window`) that determines the number of previous days to check for zero sales in the configuration below.\n",
        "\n",
        "\\* *The reference notebooks generate zero forecasts for target series where the past 21 days are all zero sales.*\n",
        "\n",
        "\\** *To reduce computation time of this notebook, the configuration is set to perform the standard train-validation split for model evaluation.*"
      ],
      "metadata": {
        "id": "iEscnX-ys4f4"
      }
    },
    {
      "cell_type": "code",
      "source": [
        "TRAINER_CONFIG = {\n",
        "    # the time series data previously extracted\n",
        "    \"target_dict\": target_dict,\n",
        "    \"pipe_dict\": pipe_dict,\n",
        "    \"id_dict\": id_dict,\n",
        "    \"past_dict\": past_dict,\n",
        "    \"future_dict\": future_dict,\n",
        "\n",
        "    # time series cross-validation using a rolling forecasting origin\n",
        "    \"forecast_horizon\": 16, # the length of the validation set\n",
        "    \"folds\": 1, # the number of training sets (setting to 1 means the standard train-validation split)\n",
        "\n",
        "    # the number of previous days to check for zero sales; if all are zero, generate zero forecasts\n",
        "    \"zero_fc_window\": 21,\n",
        "\n",
        "    # specify the covariates in a list to include in the model\n",
        "    # set to None to not use any, and set to 'keep_all' to include everything\n",
        "    \"static_covs\": \"keep_all\", # specify from ['city', 'state', 'cluster', 'type', 'store_nbr'], will extract all one-hot encoded columns\n",
        "    \"past_covs\": \"keep_all\",\n",
        "    \"future_covs\": \"keep_all\",\n",
        "}"
      ],
      "metadata": {
        "execution": {
          "iopub.status.busy": "2023-06-23T08:04:45.014793Z",
          "iopub.execute_input": "2023-06-23T08:04:45.015157Z",
          "iopub.status.idle": "2023-06-23T08:04:45.034461Z",
          "shell.execute_reply.started": "2023-06-23T08:04:45.015132Z",
          "shell.execute_reply": "2023-06-23T08:04:45.033033Z"
        },
        "trusted": true,
        "id": "wIYF1Zkis4f4"
      },
      "execution_count": null,
      "outputs": []
    },
    {
      "cell_type": "code",
      "source": [
        "class Trainer:\n",
        "    def __init__(\n",
        "        self,\n",
        "        target_dict,\n",
        "        pipe_dict,\n",
        "        id_dict,\n",
        "        past_dict,\n",
        "        future_dict,\n",
        "        forecast_horizon,\n",
        "        folds,\n",
        "        zero_fc_window,\n",
        "        static_covs=None,\n",
        "        past_covs=None,\n",
        "        future_covs=None,\n",
        "    ):\n",
        "        self.target_dict = target_dict.copy()\n",
        "        self.pipe_dict = pipe_dict.copy()\n",
        "        self.id_dict = id_dict.copy()\n",
        "        self.past_dict = past_dict.copy()\n",
        "        self.future_dict = future_dict.copy()\n",
        "        self.forecast_horizon = forecast_horizon\n",
        "        self.folds = folds\n",
        "        self.zero_fc_window = zero_fc_window\n",
        "        self.static_covs = static_covs\n",
        "        self.past_covs = past_covs\n",
        "        self.future_covs = future_covs\n",
        "\n",
        "        # set up time series data\n",
        "        self.setup()\n",
        "\n",
        "    def setup(self):\n",
        "        for fam in tqdm_notebook(self.target_dict.keys(), desc=\"Setting up\"):\n",
        "            # keep the specified static covariates\n",
        "            if self.static_covs != \"keep_all\":\n",
        "                if self.static_covs is not None:\n",
        "                    target = self.target_dict[fam]\n",
        "                    keep_static = [col for col in target[0].static_covariates.columns if col.startswith(tuple(self.static_covs))]\n",
        "                    static_covs_df = [t.static_covariates[keep_static] for t in target]\n",
        "                    self.target_dict[fam] = [t.with_static_covariates(d) for t, d in zip(target, static_covs_df)]\n",
        "                else:\n",
        "                    self.target_dict[fam] = [t.with_static_covariates(None) for t in target]\n",
        "\n",
        "            # keep the specified past covariates\n",
        "            if self.past_covs != \"keep_all\":\n",
        "                if self.past_covs is not None:\n",
        "                    self.past_dict[fam] = [p[self.past_covs] for p in self.past_dict[fam]]\n",
        "                else:\n",
        "                    self.past_dict[fam] = None\n",
        "\n",
        "            # keep the specified future covariates\n",
        "            if self.future_covs != \"keep_all\":\n",
        "                if self.future_covs is not None:\n",
        "                    self.future_dict[fam] = [p[self.future_covs] for p in self.future_dict[fam]]\n",
        "                else:\n",
        "                    self.future_dict[fam] = None\n",
        "\n",
        "    def clip(self, array):\n",
        "        return np.clip(array, a_min=0., a_max=None)\n",
        "\n",
        "    def train_valid_split(self, target, length):\n",
        "        train = [t[:-length] for t in target]\n",
        "        valid_end_idx = -length + self.forecast_horizon\n",
        "        if valid_end_idx >= 0:\n",
        "            valid_end_idx = None\n",
        "        valid = [t[-length:valid_end_idx] for t in target]\n",
        "\n",
        "        return train, valid\n",
        "\n",
        "    def get_models(self, model_names, model_configs):\n",
        "        models = {\n",
        "            \"lr\": LinearRegressionModel,\n",
        "            \"lgbm\": LightGBMModel,\n",
        "            \"cat\": CatBoostModel,\n",
        "            \"xgb\": XGBModel,\n",
        "        }\n",
        "        assert isinstance(model_names, list) and isinstance(model_configs, list),\\\n",
        "        \"Both the model names and model configurations must be specified in lists.\"\n",
        "        assert all(name in models for name in model_names),\\\n",
        "        f\"Model names '{model_names}' not recognized.\"\n",
        "        assert len(model_names) == len(model_configs),\\\n",
        "        \"The number of model names and the number of model configurations do not match.\"\n",
        "\n",
        "        if \"xgb\" in model_names:\n",
        "            xgb_idx = np.where(np.array(model_names)==\"xgb\")[0]\n",
        "            for idx in xgb_idx:\n",
        "                # change to histogram-based method for XGBoost to get faster training time\n",
        "                model_configs[idx] = {\"tree_method\": \"hist\", **model_configs[idx]}\n",
        "\n",
        "        return [models[name](**model_configs[j]) for j, name in enumerate(model_names)]\n",
        "\n",
        "    def generate_forecasts(self, models, train, pipe, past_covs, future_covs, drop_before):\n",
        "        if drop_before is not None:\n",
        "            date = pd.Timestamp(drop_before) - pd.Timedelta(days=1)\n",
        "            train = [t.drop_before(date) for t in train]\n",
        "        inputs = {\n",
        "            \"series\": train,\n",
        "            \"past_covariates\": past_covs,\n",
        "            \"future_covariates\": future_covs,\n",
        "        }\n",
        "        zero_pred = pd.DataFrame({\n",
        "            \"date\": pd.date_range(train[0].end_time(), periods=self.forecast_horizon+1)[1:],\n",
        "            \"sales\": np.zeros(self.forecast_horizon),\n",
        "        })\n",
        "        zero_pred = TimeSeries.from_dataframe(\n",
        "            df=zero_pred,\n",
        "            time_col=\"date\",\n",
        "            value_cols=\"sales\",\n",
        "        )\n",
        "\n",
        "        pred_list = []\n",
        "        ens_pred = [0 for _ in range(len(train))]\n",
        "\n",
        "        for m in models:\n",
        "            # fit training data to model\n",
        "            m.fit(**inputs)\n",
        "\n",
        "            # generate forecasts and apply inverse transformations\n",
        "            pred = m.predict(n=self.forecast_horizon, **inputs)\n",
        "            pred = pipe.inverse_transform(pred)\n",
        "\n",
        "            # set zero forecasts for target series where the recent observations are 0s\n",
        "            for j in range(len(train)):\n",
        "                if train[j][-self.zero_fc_window:].values().sum() == 0:\n",
        "                    pred[j] = zero_pred\n",
        "\n",
        "            # clip negative forecasts to 0s\n",
        "            pred = [p.map(self.clip) for p in pred]\n",
        "            pred_list.append(pred)\n",
        "\n",
        "            # ensemble averaging\n",
        "            for j in range(len(ens_pred)):\n",
        "                ens_pred[j] += pred[j] / len(models)\n",
        "\n",
        "        return pred_list, ens_pred\n",
        "\n",
        "    def metric(self, valid, pred):\n",
        "        return rmsle(valid, pred, inter_reduction=np.mean)\n",
        "\n",
        "    def validate(self, model_names, model_configs, drop_before=None):\n",
        "        # helper value to align printed text below\n",
        "        longest_len = len(max(self.target_dict.keys(), key=len))\n",
        "\n",
        "        # store metric values for each model\n",
        "        model_metrics_history = []\n",
        "        ens_metric_history = []\n",
        "\n",
        "        for fam in tqdm_notebook(self.target_dict, desc=\"Performing validation\"):\n",
        "            target = self.target_dict[fam]\n",
        "            pipe = self.pipe_dict[fam]\n",
        "            past_covs = self.past_dict[fam]\n",
        "            future_covs = self.future_dict[fam]\n",
        "\n",
        "            # record average metric value over all folds\n",
        "            model_metrics = []\n",
        "            ens_metric = 0\n",
        "\n",
        "            for j in range(self.folds):\n",
        "                # perform train-validation split and apply transformations\n",
        "                length = (self.folds - j) * self.forecast_horizon\n",
        "                train, valid = self.train_valid_split(target, length)\n",
        "                valid = pipe.inverse_transform(valid)\n",
        "\n",
        "                # generate forecasts and compute metric\n",
        "                models = self.get_models(model_names, model_configs)\n",
        "                pred_list, ens_pred = self.generate_forecasts(models, train, pipe, past_covs, future_covs, drop_before)\n",
        "                metric_list = [self.metric(valid, pred) / self.folds for pred in pred_list]\n",
        "                model_metrics.append(metric_list)\n",
        "                if len(models) > 1:\n",
        "                    ens_metric_fold = self.metric(valid, ens_pred) / self.folds\n",
        "                    ens_metric += ens_metric_fold\n",
        "\n",
        "            # store final metric value for each model\n",
        "            model_metrics = np.sum(model_metrics, axis=0)\n",
        "            model_metrics_history.append(model_metrics)\n",
        "            ens_metric_history.append(ens_metric)\n",
        "\n",
        "            # print metric value for each family\n",
        "            print(\n",
        "                fam,\n",
        "                \" \" * (longest_len - len(fam)),\n",
        "                \" | \",\n",
        "                \" - \".join([f\"{model}: {metric:.5f}\" for model, metric in zip(model_names, model_metrics)]),\n",
        "                f\" - ens: {ens_metric:.5f}\" if len(models) > 1 else \"\",\n",
        "                sep=\"\",\n",
        "            )\n",
        "\n",
        "        # print overall metric value\n",
        "        cprint(\n",
        "            \"Average RMSLE | \"\n",
        "            + \" - \".join([f\"{model}: {metric:.5f}\"\n",
        "                          for model, metric in zip(model_names, np.mean(model_metrics_history, axis=0))])\n",
        "            + (f\" - ens: {np.mean(ens_metric_history):.5f}\" if len(models) > 1 else \"\"),\n",
        "        )\n",
        "\n",
        "    def ensemble_predict(self, model_names, model_configs, drop_before=None):\n",
        "        forecasts = []\n",
        "        for fam in tqdm_notebook(self.target_dict.keys(), desc=\"Generating forecasts\"):\n",
        "            target = self.target_dict[fam]\n",
        "            pipe = self.pipe_dict[fam]\n",
        "            target_id = self.id_dict[fam]\n",
        "            past_covs = self.past_dict[fam]\n",
        "            future_covs = self.future_dict[fam]\n",
        "\n",
        "            # generate forecasts\n",
        "            models = self.get_models(model_names, model_configs)\n",
        "            pred_list, ens_pred = self.generate_forecasts(models, target, pipe, past_covs, future_covs, drop_before)\n",
        "            ens_pred = [p.pd_dataframe().assign(**i) for p, i in zip(ens_pred, target_id)]\n",
        "            ens_pred = pd.concat(ens_pred, axis=0)\n",
        "            forecasts.append(ens_pred)\n",
        "\n",
        "        # combine all forecasts into one dataframe\n",
        "        forecasts = pd.concat(forecasts, axis=0)\n",
        "        forecasts = forecasts.rename_axis(None, axis=1).reset_index(names=\"date\")\n",
        "\n",
        "        return forecasts"
      ],
      "metadata": {
        "execution": {
          "iopub.status.busy": "2023-06-23T08:04:45.036617Z",
          "iopub.execute_input": "2023-06-23T08:04:45.037124Z",
          "iopub.status.idle": "2023-06-23T08:04:45.07721Z",
          "shell.execute_reply.started": "2023-06-23T08:04:45.037089Z",
          "shell.execute_reply": "2023-06-23T08:04:45.076242Z"
        },
        "trusted": true,
        "id": "oWKar7Obs4f5"
      },
      "execution_count": null,
      "outputs": []
    },
    {
      "cell_type": "code",
      "source": [
        "# initialize model trainer\n",
        "trainer = Trainer(**TRAINER_CONFIG)"
      ],
      "metadata": {
        "execution": {
          "iopub.status.busy": "2023-06-23T08:04:45.078352Z",
          "iopub.execute_input": "2023-06-23T08:04:45.079761Z",
          "iopub.status.idle": "2023-06-23T08:04:45.114351Z",
          "shell.execute_reply.started": "2023-06-23T08:04:45.079713Z",
          "shell.execute_reply": "2023-06-23T08:04:45.113221Z"
        },
        "trusted": true,
        "id": "mNxXGTzzs4f5"
      },
      "execution_count": null,
      "outputs": []
    },
    {
      "cell_type": "markdown",
      "source": [
        "### Baseline: Linear Regression."
      ],
      "metadata": {
        "id": "WyWyx-mKs4f5"
      }
    },
    {
      "cell_type": "markdown",
      "source": [
        "We use linear regression as the baseline model. The model configuration is documented below.\n",
        "\n",
        "A thing to note here is that `output_chunk_length` refers to the number of days ahead that the model is predicting given today's input data. If this is set to be equal to the `forecast_horizon` of 16 days, we are doing a single-shot prediction. On the other hand, if we set it to only predict 1 day ahead, the model will make predictions autoregressively. Setting an appropriate value for this requires experimentation, but for simplicity we just set it to predict 1 day ahead.\n",
        "\n",
        "Since we are only predicting 1 day ahead, this restricts the number of lags that can be used for the past covariates. For example, our past covariates are only known up till 15 August 2017 (the last day of the training data). To generate the forecast for 31 August 2017 (the last day of the test data), the most recent past covariates that can be used fall on 15 August 2017. As such, to account for this difference, we **can only use the past covariates starting from the 16th lag**.\n",
        "\n",
        "On the other hand, our future covariates are known up till 31 August 2017. To generate the forecast for 31 August 2017 (the last day of the test data), the latest future covariates that can be used fall on 31 August 2017 as well. This means that we **can only use future covariates up till the point of forecasting**.\n",
        "\n",
        "\\* *The values in the model configuration are taken from the reference notebooks.*"
      ],
      "metadata": {
        "id": "67z-OJ9gs4f5"
      }
    },
    {
      "cell_type": "code",
      "source": [
        "BASE_CONFIG = {\n",
        "    \"random_state\": 0,\n",
        "\n",
        "    # the number of lag values of the target series\n",
        "    \"lags\": 63,\n",
        "\n",
        "    # the number of lag values of the past covariates\n",
        "    \"lags_past_covariates\": list(range(-16, -23, -1)) if TRAINER_CONFIG[\"past_covs\"] is not None else None,\n",
        "\n",
        "    # the number of (past, future-1) lag values of the future covariates\n",
        "    \"lags_future_covariates\": (14, 1) if TRAINER_CONFIG[\"future_covs\"] is not None else None,\n",
        "\n",
        "    # the number of days ahead that the model is forecasting given today's input data\n",
        "    \"output_chunk_length\": 1,\n",
        "}"
      ],
      "metadata": {
        "execution": {
          "iopub.status.busy": "2023-06-23T08:04:45.115475Z",
          "iopub.execute_input": "2023-06-23T08:04:45.115765Z",
          "iopub.status.idle": "2023-06-23T08:04:45.121287Z",
          "shell.execute_reply.started": "2023-06-23T08:04:45.115734Z",
          "shell.execute_reply": "2023-06-23T08:04:45.120357Z"
        },
        "trusted": true,
        "id": "9OwWnry7s4f5"
      },
      "execution_count": null,
      "outputs": []
    },
    {
      "cell_type": "markdown",
      "source": [
        "Before validating our models, there is an additional parameter to specify, `drop_before`. This parameter refers to a specific date, where all data points before it are excluded. With a large training data of 1782 target series, reducing the number of data points can be helpful to increase the speed of model training.\n",
        "\n",
        "Moreover, there could be [change points](https://en.wikipedia.org/wiki/Change_detection) in our time series data such that the patterns are changing over time. Some evidence to support this would be the great fluctuations in the count of zero sales between 2014 and 2015, which are not observed in other time periods. Also, there are zero promotion values up till early 2014. These findings suggest that there could be structural changes in that time period. As such, using the entire data without accounting for such changes may break our models. The **recent data may be more reliable** for forecasting compared to the older data. This requires some experimentation."
      ],
      "metadata": {
        "id": "6uHQeaYVs4f5"
      }
    },
    {
      "cell_type": "code",
      "source": [
        "# 'lr' for linear regression\n",
        "trainer.validate([\"lr\"], [BASE_CONFIG], drop_before=\"2015-01-01\")"
      ],
      "metadata": {
        "execution": {
          "iopub.status.busy": "2023-06-23T08:04:45.122686Z",
          "iopub.execute_input": "2023-06-23T08:04:45.123035Z",
          "iopub.status.idle": "2023-06-23T08:04:45.13847Z",
          "shell.execute_reply.started": "2023-06-23T08:04:45.123006Z",
          "shell.execute_reply": "2023-06-23T08:04:45.136554Z"
        },
        "trusted": true,
        "id": "rRvAop2Ts4f5"
      },
      "execution_count": null,
      "outputs": []
    },
    {
      "cell_type": "markdown",
      "source": [
        "### LightGBM."
      ],
      "metadata": {
        "id": "hkGivfl9s4f5"
      }
    },
    {
      "cell_type": "markdown",
      "source": [
        "We now use gradient-boosting decision tree (GBDT) models for actual forecasting. Some state-of-the-art options include LightGBM, XGBoost and CatBoost. We only focus on LightGBM because it appears to have faster training time. Additional hyperparameters can be specified but for simplicity, we use the default values. To stabilize performance, we perform ensemble averaging by training multiple models and aggregating the forecasts through averaging. This helps to average out the errors.\n",
        "\n",
        "\\* *We adopt the approach taken in the reference notebook to use different numbers of lags of the target series for each model.*"
      ],
      "metadata": {
        "id": "REQAwwv2s4f5"
      }
    },
    {
      "cell_type": "code",
      "source": [
        "GBDT_CONFIG1 = {\n",
        "    **BASE_CONFIG,\n",
        "\n",
        "    # the additional hyperparameters to be specified\n",
        "#     \"n_estimators\": 100,\n",
        "#     \"learning_rate\": 0.1,\n",
        "#     \"max_depth\": 6,\n",
        "\n",
        "}\n",
        "\n",
        "GBDT_CONFIG2 = GBDT_CONFIG1.copy()\n",
        "GBDT_CONFIG2[\"lags\"] = 7\n",
        "\n",
        "GBDT_CONFIG3 = GBDT_CONFIG1.copy()\n",
        "GBDT_CONFIG3[\"lags\"] = 365\n",
        "\n",
        "GBDT_CONFIG4 = GBDT_CONFIG1.copy()\n",
        "GBDT_CONFIG4[\"lags\"] = 730"
      ],
      "metadata": {
        "execution": {
          "iopub.status.busy": "2023-06-23T08:04:45.139813Z",
          "iopub.execute_input": "2023-06-23T08:04:45.140411Z",
          "iopub.status.idle": "2023-06-23T08:04:45.152748Z",
          "shell.execute_reply.started": "2023-06-23T08:04:45.140378Z",
          "shell.execute_reply": "2023-06-23T08:04:45.151231Z"
        },
        "trusted": true,
        "id": "V8VQZ63ys4f5"
      },
      "execution_count": null,
      "outputs": []
    },
    {
      "cell_type": "markdown",
      "source": [
        "To compute the ensemble average, we specify a list of models and their corresponding configurations to the trainer."
      ],
      "metadata": {
        "id": "wZwTheies4f5"
      }
    },
    {
      "cell_type": "code",
      "source": [
        "# 'lgbm' for LightGBM, 'xgb' for XGBoost, 'cat' for CatBoost\n",
        "ENS_MODELS = [\"lgbm\", \"lgbm\", \"lgbm\", \"lgbm\"]\n",
        "ENS_CONFIGS = [GBDT_CONFIG1, GBDT_CONFIG2, GBDT_CONFIG3, GBDT_CONFIG4]\n",
        "\n",
        "trainer.validate(\n",
        "    model_names=ENS_MODELS,\n",
        "    model_configs=ENS_CONFIGS,\n",
        "    drop_before=\"2015-01-01\",\n",
        ")"
      ],
      "metadata": {
        "execution": {
          "iopub.status.busy": "2023-06-23T08:04:45.155126Z",
          "iopub.execute_input": "2023-06-23T08:04:45.155511Z",
          "iopub.status.idle": "2023-06-23T08:04:45.163754Z",
          "shell.execute_reply.started": "2023-06-23T08:04:45.155456Z",
          "shell.execute_reply": "2023-06-23T08:04:45.162711Z"
        },
        "trusted": true,
        "id": "hYwwp0pIs4f5"
      },
      "execution_count": null,
      "outputs": []
    },
    {
      "cell_type": "markdown",
      "source": [
        "---"
      ],
      "metadata": {
        "id": "HRxGO-bPs4f5"
      }
    },
    {
      "cell_type": "markdown",
      "source": [
        "# 4. Submission"
      ],
      "metadata": {
        "id": "atfNSYaks4f5"
      }
    },
    {
      "cell_type": "markdown",
      "source": [
        "### Generating forecasts for the test data."
      ],
      "metadata": {
        "id": "Em_Bb-9Ps4f5"
      }
    },
    {
      "cell_type": "markdown",
      "source": [
        "For submission, we train one ensemble model on the entire training data and another ensemble model on a subset of the training data before taking the average. The RMSLE scores on the public leaderboard are as follows:\n",
        "* Ensemble model trained on the entire data: 0.38073\n",
        "* Ensemble model trained on a subset of the data: 0.38076\n",
        "* Average of both ensemble models: 0.37984\n",
        "\n",
        "It seems that training the ensemble model on just a subset of the data (from 2015 onwards) yields similar performance to the one trained on the entire data, but has faster training speed. Taking the average of both ensemble models results in an even better RMSLE score. This shows that training on different subsets of the data and then combining the predictions can potentially make the results more robust."
      ],
      "metadata": {
        "id": "RwJaCxDAs4f5"
      }
    },
    {
      "cell_type": "code",
      "source": [
        "# generate forecasts for model trained on the entire data\n",
        "predictions1 = trainer.ensemble_predict(\n",
        "    model_names=ENS_MODELS,\n",
        "    model_configs=ENS_CONFIGS,\n",
        ")\n",
        "\n",
        "# generate forecasts for model trained on a subset of the data\n",
        "predictions2 = trainer.ensemble_predict(\n",
        "    model_names=ENS_MODELS,\n",
        "    model_configs=ENS_CONFIGS,\n",
        "    drop_before=\"2015-01-01\",\n",
        ")"
      ],
      "metadata": {
        "execution": {
          "iopub.status.busy": "2023-06-23T08:04:45.164893Z",
          "iopub.execute_input": "2023-06-23T08:04:45.165379Z",
          "iopub.status.idle": "2023-06-23T09:15:16.343457Z",
          "shell.execute_reply.started": "2023-06-23T08:04:45.165355Z",
          "shell.execute_reply": "2023-06-23T09:15:16.342417Z"
        },
        "trusted": true,
        "id": "GhhhDfDVs4f5"
      },
      "execution_count": null,
      "outputs": []
    },
    {
      "cell_type": "code",
      "source": [
        "# compute the average of the ensemble models\n",
        "final_predictions = predictions1.merge(\n",
        "    predictions2, on=[\"date\", \"store_nbr\", \"family\"], how=\"left\",\n",
        ")\n",
        "final_predictions[\"sales\"] = final_predictions[[\"sales_x\", \"sales_y\"]].mean(axis=1)\n",
        "final_predictions = final_predictions.drop(columns=[\"sales_x\", \"sales_y\"])\n",
        "\n",
        "final_predictions.head()"
      ],
      "metadata": {
        "execution": {
          "iopub.status.busy": "2023-06-23T09:15:16.345857Z",
          "iopub.execute_input": "2023-06-23T09:15:16.346165Z",
          "iopub.status.idle": "2023-06-23T09:15:16.380589Z",
          "shell.execute_reply.started": "2023-06-23T09:15:16.346141Z",
          "shell.execute_reply": "2023-06-23T09:15:16.379387Z"
        },
        "trusted": true,
        "id": "3A0PmTM0s4f5"
      },
      "execution_count": null,
      "outputs": []
    },
    {
      "cell_type": "markdown",
      "source": [
        "### Preparing for the submission."
      ],
      "metadata": {
        "id": "LYrXO_Eas4f5"
      }
    },
    {
      "cell_type": "code",
      "source": [
        "def prepare_submission(predictions):\n",
        "    predictions = predictions.copy()\n",
        "\n",
        "    # process column values for merging\n",
        "    predictions.store_nbr = predictions.store_nbr.replace(\n",
        "        \"store_nbr_\", \"\", regex=True,\n",
        "    ).astype(int)\n",
        "\n",
        "    # match with corresponding 'id'\n",
        "    submission = test.merge(\n",
        "        predictions, on=[\"date\", \"store_nbr\", \"family\"], how=\"left\",\n",
        "    )[[\"id\", \"sales\"]]\n",
        "\n",
        "    return submission"
      ],
      "metadata": {
        "execution": {
          "iopub.status.busy": "2023-06-23T09:15:16.381924Z",
          "iopub.execute_input": "2023-06-23T09:15:16.382433Z",
          "iopub.status.idle": "2023-06-23T09:15:16.388625Z",
          "shell.execute_reply.started": "2023-06-23T09:15:16.382406Z",
          "shell.execute_reply": "2023-06-23T09:15:16.387571Z"
        },
        "trusted": true,
        "id": "Ha5Y7Gpfs4f5"
      },
      "execution_count": null,
      "outputs": []
    },
    {
      "cell_type": "code",
      "source": [
        "submission = prepare_submission(final_predictions)\n",
        "\n",
        "submission.head()"
      ],
      "metadata": {
        "execution": {
          "iopub.status.busy": "2023-06-23T09:15:16.390128Z",
          "iopub.execute_input": "2023-06-23T09:15:16.39044Z",
          "iopub.status.idle": "2023-06-23T09:15:16.465604Z",
          "shell.execute_reply.started": "2023-06-23T09:15:16.390412Z",
          "shell.execute_reply": "2023-06-23T09:15:16.46405Z"
        },
        "trusted": true,
        "id": "SkRW_UpQs4f5"
      },
      "execution_count": null,
      "outputs": []
    },
    {
      "cell_type": "code",
      "source": [
        "submission.to_csv(\"submission.csv\", index=False)"
      ],
      "metadata": {
        "execution": {
          "iopub.status.busy": "2023-06-23T09:15:16.467891Z",
          "iopub.execute_input": "2023-06-23T09:15:16.468277Z",
          "iopub.status.idle": "2023-06-23T09:15:16.534894Z",
          "shell.execute_reply.started": "2023-06-23T09:15:16.468253Z",
          "shell.execute_reply": "2023-06-23T09:15:16.53383Z"
        },
        "trusted": true,
        "id": "7LIH8wzKs4f5"
      },
      "execution_count": null,
      "outputs": []
    },
    {
      "cell_type": "markdown",
      "source": [
        "---"
      ],
      "metadata": {
        "id": "nGhlbJXSs4f5"
      }
    }
  ]
}